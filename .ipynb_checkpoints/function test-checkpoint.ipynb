{
 "cells": [
  {
   "cell_type": "code",
   "execution_count": 2,
   "metadata": {},
   "outputs": [],
   "source": [
    "import pandas as pd\n",
    "import numpy as np\n",
    "import requests\n",
    "import pyodbc\n",
    "import json\n",
    "import colors\n",
    "from urllib.error import HTTPError\n",
    "from time import time, sleep\n",
    "from watson_developer_cloud import ToneAnalyzerV3\n",
    "from itertools import product\n",
    "from werkzeug.datastructures import ImmutableMultiDict"
   ]
  },
  {
   "cell_type": "code",
   "execution_count": 10,
   "metadata": {},
   "outputs": [],
   "source": [
    "server = 'tarpley.database.windows.net'\n",
    "database = 'marketr'\n",
    "username = 'tristan'\n",
    "password = 'Fiverrtemp!'\n",
    "driver= '{ODBC Driver 17 for SQL Server}'\n",
    "\n",
    "connStr = 'DRIVER='+driver+';SERVER='+server+';PORT=1433;DATABASE='+database+';UID='+username+';PWD='+ password\n",
    "db = pyodbc.connect(connStr)\n",
    "\n",
    "def sql_to_df(x):\n",
    "    return pd.read_sql_query(x, db, index_col=None, coerce_float=True, params=None, parse_dates=None, chunksize=None)"
   ]
  },
  {
   "cell_type": "code",
   "execution_count": 12,
   "metadata": {},
   "outputs": [],
   "source": [
    "def begin():\n",
    "    print('begin')\n",
    "def competitors():\n",
    "    print('competitors')\n",
    "def company():\n",
    "    print('company')\n",
    "def audience():\n",
    "    print('audience')\n",
    "def product():\n",
    "    print('product')\n",
    "def product_2():\n",
    "    print('product_2')\n",
    "def salescycle():\n",
    "    print('salescycle')"
   ]
  },
  {
   "cell_type": "code",
   "execution_count": 15,
   "metadata": {},
   "outputs": [
    {
     "name": "stdout",
     "output_type": "stream",
     "text": [
      "competitors\n",
      "company_info\n",
      "audience\n",
      "made it here\n",
      "audience\n"
     ]
    }
   ],
   "source": [
    "def login():   \n",
    "    result = sql_to_df(\"SELECT * from dbo.customer_basic WHERE email = '\" + 'no' + \"' AND password = '\" + 'yes' + \"'\")\n",
    "\n",
    "    #try:    \n",
    "    if result['ID'][0] != None:\n",
    "        #session['logged_in'] = True\n",
    "        uid = result['ID'][0]\n",
    "        #session['user'] = int(uid)\n",
    "        #session.permanent = True\n",
    "        #session.remember=True\n",
    "\n",
    "        first_query = sql_to_df(\"SELECT first_name FROM dbo.customer_basic WHERE ID = '\" + str(19) + \"'\")\n",
    "        steps = {'competitors': competitors,\n",
    "                 'company_info': company,\n",
    "                 'audience': audience,\n",
    "                 'product_gen': product,\n",
    "                 'product_list': product_2,\n",
    "                 'awareness': salescycle}\n",
    "\n",
    "        if first_query['first_name'][0] == None:\n",
    "            return begin()\n",
    "\n",
    "        else:\n",
    "            def call_it(name):\n",
    "                print('made it here')\n",
    "                steps[name]()\n",
    "\n",
    "            for step in steps:\n",
    "                def_query = sql_to_df(\"SELECT customer_id FROM \" + step + \" WHERE customer_id = '\" + str(19) + \"'\")\n",
    "                print(step)\n",
    "\n",
    "                if def_query.empty == True:\n",
    "                    return call_it('the step is: ' + step)\n",
    "                    break\n",
    "\n",
    "login()"
   ]
  },
  {
   "cell_type": "code",
   "execution_count": null,
   "metadata": {},
   "outputs": [],
   "source": []
  }
 ],
 "metadata": {
  "kernelspec": {
   "display_name": "Python [conda env:anaconda3]",
   "language": "python",
   "name": "conda-env-anaconda3-py"
  },
  "language_info": {
   "codemirror_mode": {
    "name": "ipython",
    "version": 3
   },
   "file_extension": ".py",
   "mimetype": "text/x-python",
   "name": "python",
   "nbconvert_exporter": "python",
   "pygments_lexer": "ipython3",
   "version": "3.6.4"
  }
 },
 "nbformat": 4,
 "nbformat_minor": 2
}
