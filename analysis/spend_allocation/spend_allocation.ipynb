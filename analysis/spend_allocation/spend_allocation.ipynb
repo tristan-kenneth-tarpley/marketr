{
 "cells": [
  {
   "cell_type": "code",
   "execution_count": 336,
   "metadata": {},
   "outputs": [],
   "source": [
    "from pprint import pprint\n",
    "import pandas as pd\n",
    "import pyodbc\n",
    "import math\n",
    "server='tarpley.database.windows.net'\n",
    "database='marketr'\n",
    "username='tristan'\n",
    "password='Fiverrtemp!'\n",
    "driver='{ODBC Driver 17 for SQL Server}'\n",
    "\n",
    "connStr = 'DRIVER='+driver+';SERVER='+server+';PORT=1443;DATABASE='+database+';UID='+username+';PWD='+ password"
   ]
  },
  {
   "cell_type": "markdown",
   "metadata": {},
   "source": [
    "### 1) Base mix"
   ]
  },
  {
   "cell_type": "code",
   "execution_count": 350,
   "metadata": {},
   "outputs": [],
   "source": [
    "base_mix = {\n",
    "    'awareness': .55,\n",
    "    'evaluation': .25,\n",
    "    'conversion': .2\n",
    "}"
   ]
  },
  {
   "cell_type": "markdown",
   "metadata": {},
   "source": [
    "### 2) AEC Adjustment Table"
   ]
  },
  {
   "cell_type": "code",
   "execution_count": 351,
   "metadata": {},
   "outputs": [],
   "source": [
    "def adjustments(brand_strength, growth_needs, competitiveness):\n",
    "    adjustments = {}\n",
    "    considerations = ['brand_strength', 'growth_needs', 'competitiveness']\n",
    "    levels = ['low', 'medium', 'high']\n",
    "    stages = ['awareness', 'evaluation', 'conversion']\n",
    "    \n",
    "    brand_values = [\n",
    "        [.1, -.05, -.05],\n",
    "        [0,0,0],\n",
    "        [-.1, .05, .05]\n",
    "    ]\n",
    "    growth_values = [\n",
    "        [-.1, .03, .07],\n",
    "        [0,0,0],\n",
    "        [.07, -.04, -.03]\n",
    "    ]\n",
    "    competitiveness_values = [\n",
    "        [-.1, .03, .07],\n",
    "        [0,0,0],\n",
    "        [0, .05, -.05]\n",
    "    ]\n",
    "    \n",
    "    def pack_values():\n",
    "        for consideration in enumerate(considerations):\n",
    "            adjustments[consideration[1]] = {}\n",
    "            for level in enumerate(levels):\n",
    "                adjustments[consideration[1]][level[1]] = {}\n",
    "                for stage in enumerate(stages):\n",
    "                    if consideration[1] == 'brand_strength':\n",
    "                        lookup = brand_values[level[0]][stage[0]]\n",
    "                    elif consideration[1] == 'growth_needs':\n",
    "                        lookup = growth_values[level[0]][stage[0]]\n",
    "                    elif consideration[1] == 'competitiveness':\n",
    "                        lookup = competitiveness_values[level[0]][stage[0]]\n",
    "                    \n",
    "                    adjustments[consideration[1]][level[1]][stage[1]] = lookup\n",
    "                 \n",
    "    pack_values()\n",
    "                \n",
    "    awareness = (\n",
    "          adjustments['brand_strength'][brand_strength]['awareness']\n",
    "        + adjustments['growth_needs'][growth_needs]['awareness']\n",
    "        + adjustments['competitiveness'][competitiveness]['awareness']\n",
    "    )\n",
    "    evaluation = (\n",
    "          adjustments['brand_strength'][brand_strength]['evaluation']\n",
    "        + adjustments['growth_needs'][growth_needs]['evaluation']\n",
    "        + adjustments['competitiveness'][competitiveness]['evaluation']\n",
    "    )\n",
    "    conversion = (\n",
    "          adjustments['brand_strength'][brand_strength]['conversion']\n",
    "        + adjustments['growth_needs'][growth_needs]['conversion']\n",
    "        + adjustments['competitiveness'][competitiveness]['conversion']\n",
    "    )\n",
    "    return awareness, evaluation, conversion"
   ]
  },
  {
   "cell_type": "markdown",
   "metadata": {},
   "source": [
    "### 3) # of tactics to select"
   ]
  },
  {
   "cell_type": "code",
   "execution_count": 367,
   "metadata": {},
   "outputs": [],
   "source": [
    "def num_tactics(budget):\n",
    "    if budget <= 1000:\n",
    "        tactics = 3\n",
    "    elif budget > 1000 and budget <= 3000:\n",
    "        tactics = 4\n",
    "    elif budget > 3000 and budget <= 5000:\n",
    "        tactics = 6\n",
    "    elif budget > 5000 and budget <= 10000:\n",
    "        tactics = 8\n",
    "    elif budget > 10000:\n",
    "        tactics = 10\n",
    "        \n",
    "    return math.floor(tactics)"
   ]
  },
  {
   "cell_type": "markdown",
   "metadata": {},
   "source": [
    "### 4) Business tag lookup & tactic selection"
   ]
  },
  {
   "cell_type": "code",
   "execution_count": 368,
   "metadata": {},
   "outputs": [],
   "source": [
    "def get_tags(customer_id):\n",
    "    db = pyodbc.connect(connStr)\n",
    "    cursor = db.cursor()\n",
    "    cursor.execute(\"exec get_spend_tags @customer_id = ?\", (customer_id,))\n",
    "    tags_db = cursor.fetchall()\n",
    "\n",
    "    tags = []\n",
    "    for tag in tags_db:\n",
    "        tags.append({\n",
    "            'tag': tag[0],\n",
    "            'tactic': tag[1],\n",
    "            'category': tag[2],\n",
    "            'priority_scale': tag[3]\n",
    "        })\n",
    "\n",
    "    return pd.DataFrame(tags).sort_values(by=['priority_scale'], ascending=False)"
   ]
  },
  {
   "cell_type": "markdown",
   "metadata": {},
   "source": [
    "# Calculator"
   ]
  },
  {
   "cell_type": "code",
   "execution_count": 474,
   "metadata": {},
   "outputs": [],
   "source": [
    "def allocation(revenue, budget, brand_strength, growth_needs, competitiveness, biz_type, biz_model):\n",
    "    base_table = base_mix\n",
    "    awareness_adj, evaluation_adj, conversion_adj = adjustments(brand_strength, growth_needs, competitiveness)\n",
    "    \n",
    "    awareness, evaluation, conversion = (\n",
    "        (base_table['awareness'] + awareness_adj),\n",
    "        (base_table['evaluation'] + evaluation_adj),\n",
    "        (base_table['conversion'] + conversion_adj)\n",
    "    )\n",
    "    awareness_spend, evaluation_spend, conversion_spend = (\n",
    "        awareness * budget,\n",
    "        evaluation * budget,\n",
    "        conversion * budget\n",
    "    )\n",
    "    \n",
    "    tactics = num_tactics(budget)\n",
    "    awareness_tactics, evaluation_tactics, conversion_tactics = (\n",
    "        math.floor(base_table['awareness'] * tactics),\n",
    "        round(base_table['evaluation'] * tactics),\n",
    "        round(base_table['conversion'] * tactics)\n",
    "    )\n",
    "    \n",
    "    tags = get_tags(198)\n",
    "    awareness = tags[tags['category'] == 'Awareness'][:awareness_tactics]\n",
    "    evaluation = tags[tags['category'] == 'Evaluation'][:evaluation_tactics]\n",
    "    conversion = tags[tags['category'] == 'Conversion'][:conversion_tactics]\n",
    "    \n",
    "    def tactic_spend(priority, cat_spend, sum):\n",
    "        return round(cat_spend*priority/sum)\n",
    "    \n",
    "    for tup in [(awareness, awareness_spend), (evaluation, evaluation_spend), (conversion, conversion_spend)]:\n",
    "        df = tup[0]\n",
    "        spend = tup[1]\n",
    "        df['spend_per_tactic'] = df['priority_scale'].apply(\n",
    "            lambda x: tactic_spend(x, spend, df['priority_scale'].sum())\n",
    "        )\n",
    "        \n",
    "        \n",
    "        \n",
    "    return (awareness, evaluation, conversion)"
   ]
  },
  {
   "cell_type": "code",
   "execution_count": 475,
   "metadata": {},
   "outputs": [],
   "source": [
    "revenue = 500000\n",
    "budget = 3875\n",
    "brand_strength = 'low'\n",
    "growth_needs = 'medium'\n",
    "competitiveness = 'medium'\n",
    "biz_type = 'b2b'\n",
    "biz_model = 'SaaS'"
   ]
  },
  {
   "cell_type": "code",
   "execution_count": 471,
   "metadata": {},
   "outputs": [],
   "source": [
    "allocation = allocation(revenue, budget, brand_strength, growth_needs, competitiveness, biz_type, biz_model)"
   ]
  }
 ],
 "metadata": {
  "kernelspec": {
   "display_name": "Python [conda env:anaconda3]",
   "language": "python",
   "name": "conda-env-anaconda3-py"
  },
  "language_info": {
   "codemirror_mode": {
    "name": "ipython",
    "version": 3
   },
   "file_extension": ".py",
   "mimetype": "text/x-python",
   "name": "python",
   "nbconvert_exporter": "python",
   "pygments_lexer": "ipython3",
   "version": "3.6.4"
  }
 },
 "nbformat": 4,
 "nbformat_minor": 2
}
