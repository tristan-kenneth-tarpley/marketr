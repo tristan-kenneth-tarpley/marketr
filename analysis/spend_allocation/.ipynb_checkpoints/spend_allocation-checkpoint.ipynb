{
 "cells": [
  {
   "cell_type": "code",
   "execution_count": 117,
   "metadata": {},
   "outputs": [],
   "source": [
    "from pprint import pprint\n",
    "import numpy as np\n",
    "import pyodbc\n",
    "server='tarpley.database.windows.net'\n",
    "database='marketr'\n",
    "username='tristan'\n",
    "password='Fiverrtemp!'\n",
    "driver='{ODBC Driver 17 for SQL Server}'\n",
    "\n",
    "connStr = 'DRIVER='+driver+';SERVER='+server+';PORT=1443;DATABASE='+database+';UID='+username+';PWD='+ password"
   ]
  },
  {
   "cell_type": "markdown",
   "metadata": {},
   "source": [
    "### 1) Base mix"
   ]
  },
  {
   "cell_type": "code",
   "execution_count": 135,
   "metadata": {},
   "outputs": [],
   "source": [
    "base_mix = {\n",
    "    'awareness': .55,\n",
    "    'evaluation': .25,\n",
    "    'conversion': .2\n",
    "}"
   ]
  },
  {
   "cell_type": "markdown",
   "metadata": {},
   "source": [
    "### 2) AEC Adjustment Table"
   ]
  },
  {
   "cell_type": "code",
   "execution_count": 221,
   "metadata": {},
   "outputs": [],
   "source": [
    "def adjustments(brand_strength, growth_needs, competitiveness):\n",
    "    adjustments = {}\n",
    "    considerations = ['brand_strength', 'growth_needs', 'competitiveness']\n",
    "    levels = ['low', 'medium', 'high']\n",
    "    stages = ['awareness', 'evaluation', 'conversion']\n",
    "    \n",
    "    brand_values = [\n",
    "        [.1, -.05, -.05],\n",
    "        [0,0,0],\n",
    "        [-.1, .05, .05]\n",
    "    ]\n",
    "    growth_values = [\n",
    "        [-.1, .03, .07],\n",
    "        [0,0,0],\n",
    "        [.07, -.04, -.03]\n",
    "    ]\n",
    "    competitiveness_values = [\n",
    "        [-.1, .03, .07],\n",
    "        [0,0,0],\n",
    "        [0, .05, -.05]\n",
    "    ]\n",
    "    \n",
    "    def pack_values():\n",
    "        for consideration in enumerate(considerations):\n",
    "            adjustments[consideration[1]] = {}\n",
    "            for level in enumerate(levels):\n",
    "                adjustments[consideration[1]][level[1]] = {}\n",
    "                for stage in enumerate(stages):\n",
    "                    if consideration[1] == 'brand_strength':\n",
    "                        lookup = brand_values[level[0]][stage[0]]\n",
    "                    elif consideration[1] == 'growth_needs':\n",
    "                        lookup = growth_values[level[0]][stage[0]]\n",
    "                    elif consideration[1] == 'competitiveness':\n",
    "                        lookup = competitiveness_values[level[0]][stage[0]]\n",
    "                    \n",
    "                    adjustments[consideration[1]][level[1]][stage[1]] = lookup\n",
    "                 \n",
    "    pack_values()\n",
    "                \n",
    "    awareness = (\n",
    "          adjustments['brand_strength'][brand_strength]['awareness']\n",
    "        + adjustments['growth_needs'][growth_needs]['awareness']\n",
    "        + adjustments['competitiveness'][competitiveness]['awareness']\n",
    "    )\n",
    "    evaluation = (\n",
    "          adjustments['brand_strength'][brand_strength]['evaluation']\n",
    "        + adjustments['growth_needs'][growth_needs]['evaluation']\n",
    "        + adjustments['competitiveness'][competitiveness]['evaluation']\n",
    "    )\n",
    "    conversion = (\n",
    "          adjustments['brand_strength'][brand_strength]['conversion']\n",
    "        + adjustments['growth_needs'][growth_needs]['conversion']\n",
    "        + adjustments['competitiveness'][competitiveness]['conversion']\n",
    "    )\n",
    "    return awareness, evaluation, conversion"
   ]
  },
  {
   "cell_type": "markdown",
   "metadata": {},
   "source": [
    "### 3) # of tactics to select"
   ]
  },
  {
   "cell_type": "code",
   "execution_count": 222,
   "metadata": {},
   "outputs": [],
   "source": [
    "def num_tactics(budget):\n",
    "    if budget <= 1000:\n",
    "        tactics = 3\n",
    "    elif budget > 1000 <= 3000:\n",
    "        tactics = 4\n",
    "    elif budget > 3000 <= 5000:\n",
    "        tactics = 6\n",
    "    elif budget > 5000 <= 10000:\n",
    "        tactics = 8\n",
    "    elif budget > 10000:\n",
    "        tactics = 10\n",
    "        \n",
    "    return tactics"
   ]
  },
  {
   "cell_type": "markdown",
   "metadata": {},
   "source": [
    "### 4) Business tag lookup & tactic selection"
   ]
  },
  {
   "cell_type": "code",
   "execution_count": 223,
   "metadata": {},
   "outputs": [],
   "source": [
    "def get_tags():\n",
    "    db = pyodbc.connect(connStr)\n",
    "    cursor = db.cursor()\n",
    "    cursor.execute(\"select * from spend_tags\")\n",
    "    tags_db = cursor.fetchall()\n",
    "\n",
    "    tags = []\n",
    "    for tag in tags_db:\n",
    "        tags.append({\n",
    "            'tag': tag[0],\n",
    "            'tactic': tag[1],\n",
    "            'category': tag[2],\n",
    "            'priority_scale': tag[3]\n",
    "        })\n",
    "\n",
    "    return tags"
   ]
  },
  {
   "cell_type": "markdown",
   "metadata": {},
   "source": [
    "# Calculator"
   ]
  },
  {
   "cell_type": "code",
   "execution_count": 229,
   "metadata": {},
   "outputs": [],
   "source": [
    "def allocation(revenue, budget, brand_strength, growth_needs, competitiveness, biz_type, biz_model, business_tag):\n",
    "    base_table = base_mix\n",
    "    awareness_adj, evaluation_adj, conversion_adj = adjustments(brand_strength, growth_needs, competitiveness)\n",
    "    awareness, evaluation, conversion = (\n",
    "        (base_table['awareness'] + awareness_adj),\n",
    "        (base_table['evaluation'] + evaluation_adj),\n",
    "        (base_table['conversion'] + conversion_adj))\n",
    "    \n",
    "    print(awareness, evaluation, conversion)\n",
    "    "
   ]
  },
  {
   "cell_type": "code",
   "execution_count": 230,
   "metadata": {},
   "outputs": [],
   "source": [
    "revenue = 100000\n",
    "budget = 775\n",
    "brand_strength = 'low'\n",
    "growth_needs = 'medium'\n",
    "competitiveness = 'medium'\n",
    "biz_type = 'b2b'\n",
    "biz_model = 'SaaS'\n",
    "business_tag = '1^5'"
   ]
  },
  {
   "cell_type": "code",
   "execution_count": 231,
   "metadata": {},
   "outputs": [
    {
     "name": "stdout",
     "output_type": "stream",
     "text": [
      "65.0 20.0 15.000000000000002\n"
     ]
    }
   ],
   "source": [
    "allocation(revenue, budget, brand_strength, growth_needs, competitiveness, biz_type, biz_model, business_tag)"
   ]
  },
  {
   "cell_type": "code",
   "execution_count": null,
   "metadata": {},
   "outputs": [],
   "source": []
  }
 ],
 "metadata": {
  "kernelspec": {
   "display_name": "Python [conda env:anaconda3]",
   "language": "python",
   "name": "conda-env-anaconda3-py"
  },
  "language_info": {
   "codemirror_mode": {
    "name": "ipython",
    "version": 3
   },
   "file_extension": ".py",
   "mimetype": "text/x-python",
   "name": "python",
   "nbconvert_exporter": "python",
   "pygments_lexer": "ipython3",
   "version": "3.6.4"
  }
 },
 "nbformat": 4,
 "nbformat_minor": 2
}
