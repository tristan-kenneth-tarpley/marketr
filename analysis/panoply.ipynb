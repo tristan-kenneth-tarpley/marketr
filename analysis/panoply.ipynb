{
 "cells": [
  {
   "cell_type": "code",
   "execution_count": 1,
   "metadata": {},
   "outputs": [],
   "source": [
    "import pandas as pd\n",
    "import sqlalchemy\n",
    "from sqlalchemy import create_engine"
   ]
  },
  {
   "cell_type": "code",
   "execution_count": 2,
   "metadata": {},
   "outputs": [],
   "source": [
    "POSTGRES_ADDRESS = 'db.panoply.io' \n",
    "POSTGRES_PORT = '5439'\n",
    "POSTGRES_USERNAME = 'tristan@marketr.life' \n",
    "POSTGRES_PASSWORD = 'Y6!ZQnRqYridGNiG7bb_' \n",
    "POSTGRES_DBNAME = 'marketr' \n",
    "postgres_str = f'postgresql://{POSTGRES_USERNAME}:{POSTGRES_PASSWORD}@{POSTGRES_ADDRESS}:{POSTGRES_PORT}/{POSTGRES_DBNAME}'\n",
    "cnx = create_engine(postgres_str)"
   ]
  },
  {
   "cell_type": "code",
   "execution_count": 3,
   "metadata": {},
   "outputs": [],
   "source": [
    "df = pd.read_sql_query('''SELECT * FROM \"public\".\"adwords_geo_performance_report_interaction types\"''', cnx)"
   ]
  },
  {
   "cell_type": "code",
   "execution_count": 4,
   "metadata": {},
   "outputs": [
    {
     "data": {
      "text/html": [
       "<div>\n",
       "<style scoped>\n",
       "    .dataframe tbody tr th:only-of-type {\n",
       "        vertical-align: middle;\n",
       "    }\n",
       "\n",
       "    .dataframe tbody tr th {\n",
       "        vertical-align: top;\n",
       "    }\n",
       "\n",
       "    .dataframe thead th {\n",
       "        text-align: right;\n",
       "    }\n",
       "</style>\n",
       "<table border=\"1\" class=\"dataframe\">\n",
       "  <thead>\n",
       "    <tr style=\"text-align: right;\">\n",
       "      <th></th>\n",
       "      <th>id</th>\n",
       "      <th>__updatetime</th>\n",
       "      <th>value</th>\n",
       "      <th>adwords_geo_performance_report_id</th>\n",
       "      <th>__senttime</th>\n",
       "    </tr>\n",
       "  </thead>\n",
       "  <tbody>\n",
       "    <tr>\n",
       "      <th>0</th>\n",
       "      <td>08aa790d8372da6d9145574a279cfdc8</td>\n",
       "      <td>2019-11-16 17:27:43.661393</td>\n",
       "      <td>Clicks</td>\n",
       "      <td>7794156704_1026481_2840_6428867847_200618_9027...</td>\n",
       "      <td>2019-11-16 17:22:28.956</td>\n",
       "    </tr>\n",
       "    <tr>\n",
       "      <th>1</th>\n",
       "      <td>46d6ad4b75d8dd402862db5d39656fb8</td>\n",
       "      <td>2019-11-16 17:27:43.661393</td>\n",
       "      <td>Clicks</td>\n",
       "      <td>7847359156_1026481_2840_6428867847_200618_9027...</td>\n",
       "      <td>2019-11-16 17:22:28.956</td>\n",
       "    </tr>\n",
       "    <tr>\n",
       "      <th>2</th>\n",
       "      <td>6b7043264bb89ad38ae123f9909191db</td>\n",
       "      <td>2019-11-16 17:27:43.661393</td>\n",
       "      <td>Clicks</td>\n",
       "      <td>7794156704_1026481_2840_6428867847_200618_9027...</td>\n",
       "      <td>2019-11-16 17:22:28.956</td>\n",
       "    </tr>\n",
       "    <tr>\n",
       "      <th>3</th>\n",
       "      <td>8779ff52574e507608a690d65c67a71b</td>\n",
       "      <td>2019-11-16 17:27:43.661393</td>\n",
       "      <td>Clicks</td>\n",
       "      <td>7847359156_1026186_2840_6428867847_200618_9027...</td>\n",
       "      <td>2019-11-16 17:22:28.956</td>\n",
       "    </tr>\n",
       "    <tr>\n",
       "      <th>4</th>\n",
       "      <td>c1cd0c5db292f0968aff7900f5d82921</td>\n",
       "      <td>2019-11-16 17:27:43.661393</td>\n",
       "      <td>Clicks</td>\n",
       "      <td>7847359156_1026481_2840_6428867847_200618_1026...</td>\n",
       "      <td>2019-11-16 17:22:28.956</td>\n",
       "    </tr>\n",
       "  </tbody>\n",
       "</table>\n",
       "</div>"
      ],
      "text/plain": [
       "                                 id               __updatetime   value  \\\n",
       "0  08aa790d8372da6d9145574a279cfdc8 2019-11-16 17:27:43.661393  Clicks   \n",
       "1  46d6ad4b75d8dd402862db5d39656fb8 2019-11-16 17:27:43.661393  Clicks   \n",
       "2  6b7043264bb89ad38ae123f9909191db 2019-11-16 17:27:43.661393  Clicks   \n",
       "3  8779ff52574e507608a690d65c67a71b 2019-11-16 17:27:43.661393  Clicks   \n",
       "4  c1cd0c5db292f0968aff7900f5d82921 2019-11-16 17:27:43.661393  Clicks   \n",
       "\n",
       "                   adwords_geo_performance_report_id              __senttime  \n",
       "0  7794156704_1026481_2840_6428867847_200618_9027... 2019-11-16 17:22:28.956  \n",
       "1  7847359156_1026481_2840_6428867847_200618_9027... 2019-11-16 17:22:28.956  \n",
       "2  7794156704_1026481_2840_6428867847_200618_9027... 2019-11-16 17:22:28.956  \n",
       "3  7847359156_1026186_2840_6428867847_200618_9027... 2019-11-16 17:22:28.956  \n",
       "4  7847359156_1026481_2840_6428867847_200618_1026... 2019-11-16 17:22:28.956  "
      ]
     },
     "execution_count": 4,
     "metadata": {},
     "output_type": "execute_result"
    }
   ],
   "source": [
    "df.head()"
   ]
  },
  {
   "cell_type": "code",
   "execution_count": null,
   "metadata": {},
   "outputs": [],
   "source": []
  }
 ],
 "metadata": {
  "kernelspec": {
   "display_name": "Python [conda env:anaconda3]",
   "language": "python",
   "name": "conda-env-anaconda3-py"
  },
  "language_info": {
   "codemirror_mode": {
    "name": "ipython",
    "version": 3
   },
   "file_extension": ".py",
   "mimetype": "text/x-python",
   "name": "python",
   "nbconvert_exporter": "python",
   "pygments_lexer": "ipython3",
   "version": "3.6.4"
  }
 },
 "nbformat": 4,
 "nbformat_minor": 2
}
