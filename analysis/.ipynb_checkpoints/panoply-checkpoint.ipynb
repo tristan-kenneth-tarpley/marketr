{
 "cells": [
  {
   "cell_type": "code",
   "execution_count": 1,
   "metadata": {},
   "outputs": [],
   "source": [
    "import pandas as pd\n",
    "import sqlalchemy\n",
    "from sqlalchemy import create_engine"
   ]
  },
  {
   "cell_type": "code",
   "execution_count": 7,
   "metadata": {},
   "outputs": [],
   "source": [
    "POSTGRES_ADDRESS = 'db.panoply.io' \n",
    "POSTGRES_PORT = '5439'\n",
    "POSTGRES_USERNAME = 'tristan@marketr.life' \n",
    "POSTGRES_PASSWORD = 'Y6!ZQnRqYridGNiG7bb_' \n",
    "POSTGRES_DBNAME = 'marketr' \n",
    "postgres_str = f'postgresql://{POSTGRES_USERNAME}:{POSTGRES_PASSWORD}@{POSTGRES_ADDRESS}:{POSTGRES_PORT}/{POSTGRES_DBNAME}'\n",
    "cnx = create_engine(postgres_str)"
   ]
  },
  {
   "cell_type": "code",
   "execution_count": 10,
   "metadata": {},
   "outputs": [],
   "source": [
    "df = pd.read_sql_query('''SELECT * FROM \"public\".\"adwords_geo_performance_report_interaction types\"''', cnx)"
   ]
  },
  {
   "cell_type": "code",
   "execution_count": 12,
   "metadata": {},
   "outputs": [
    {
     "data": {
      "text/html": [
       "<div>\n",
       "<style scoped>\n",
       "    .dataframe tbody tr th:only-of-type {\n",
       "        vertical-align: middle;\n",
       "    }\n",
       "\n",
       "    .dataframe tbody tr th {\n",
       "        vertical-align: top;\n",
       "    }\n",
       "\n",
       "    .dataframe thead th {\n",
       "        text-align: right;\n",
       "    }\n",
       "</style>\n",
       "<table border=\"1\" class=\"dataframe\">\n",
       "  <thead>\n",
       "    <tr style=\"text-align: right;\">\n",
       "      <th></th>\n",
       "      <th>id</th>\n",
       "      <th>__updatetime</th>\n",
       "      <th>value</th>\n",
       "      <th>adwords_geo_performance_report_id</th>\n",
       "      <th>__senttime</th>\n",
       "    </tr>\n",
       "  </thead>\n",
       "  <tbody>\n",
       "    <tr>\n",
       "      <th>0</th>\n",
       "      <td>19584049eba1f67a7379ce6744f7082e</td>\n",
       "      <td>2019-11-16 17:27:43.661393</td>\n",
       "      <td>Clicks</td>\n",
       "      <td>7847359156_1026481_2840_6428867847_200618_9027...</td>\n",
       "      <td>2019-11-16 17:22:28.956</td>\n",
       "    </tr>\n",
       "    <tr>\n",
       "      <th>1</th>\n",
       "      <td>3786ab7d5e7a246d376fa85cc57f4f84</td>\n",
       "      <td>2019-11-16 17:27:43.661393</td>\n",
       "      <td>Clicks</td>\n",
       "      <td>7847359156_1026515_2840_6428867847_200618_1026...</td>\n",
       "      <td>2019-11-16 17:22:28.956</td>\n",
       "    </tr>\n",
       "    <tr>\n",
       "      <th>2</th>\n",
       "      <td>504087fb603b6621def3589f30be4109</td>\n",
       "      <td>2019-11-16 17:27:43.661393</td>\n",
       "      <td>Clicks</td>\n",
       "      <td>7847359156_1026630_2840_6428867847_200618_9027...</td>\n",
       "      <td>2019-11-16 17:22:28.956</td>\n",
       "    </tr>\n",
       "    <tr>\n",
       "      <th>3</th>\n",
       "      <td>7e379a1661c83a58d15d0823706047b5</td>\n",
       "      <td>2019-11-16 17:27:43.661393</td>\n",
       "      <td>Clicks</td>\n",
       "      <td>7847359156_1026481_2840_6428867847_200618_9027...</td>\n",
       "      <td>2019-11-16 17:22:28.956</td>\n",
       "    </tr>\n",
       "    <tr>\n",
       "      <th>4</th>\n",
       "      <td>bbf6444dbc045550cd9cea173636f2bf</td>\n",
       "      <td>2019-11-16 17:27:43.661393</td>\n",
       "      <td>Clicks</td>\n",
       "      <td>7842450379_1026481_2840_6428867847_200618_1026...</td>\n",
       "      <td>2019-11-16 17:22:28.956</td>\n",
       "    </tr>\n",
       "  </tbody>\n",
       "</table>\n",
       "</div>"
      ],
      "text/plain": [
       "                                 id               __updatetime   value  \\\n",
       "0  19584049eba1f67a7379ce6744f7082e 2019-11-16 17:27:43.661393  Clicks   \n",
       "1  3786ab7d5e7a246d376fa85cc57f4f84 2019-11-16 17:27:43.661393  Clicks   \n",
       "2  504087fb603b6621def3589f30be4109 2019-11-16 17:27:43.661393  Clicks   \n",
       "3  7e379a1661c83a58d15d0823706047b5 2019-11-16 17:27:43.661393  Clicks   \n",
       "4  bbf6444dbc045550cd9cea173636f2bf 2019-11-16 17:27:43.661393  Clicks   \n",
       "\n",
       "                   adwords_geo_performance_report_id              __senttime  \n",
       "0  7847359156_1026481_2840_6428867847_200618_9027... 2019-11-16 17:22:28.956  \n",
       "1  7847359156_1026515_2840_6428867847_200618_1026... 2019-11-16 17:22:28.956  \n",
       "2  7847359156_1026630_2840_6428867847_200618_9027... 2019-11-16 17:22:28.956  \n",
       "3  7847359156_1026481_2840_6428867847_200618_9027... 2019-11-16 17:22:28.956  \n",
       "4  7842450379_1026481_2840_6428867847_200618_1026... 2019-11-16 17:22:28.956  "
      ]
     },
     "execution_count": 12,
     "metadata": {},
     "output_type": "execute_result"
    }
   ],
   "source": [
    "df.head()"
   ]
  },
  {
   "cell_type": "code",
   "execution_count": null,
   "metadata": {},
   "outputs": [],
   "source": []
  }
 ],
 "metadata": {
  "kernelspec": {
   "display_name": "Python [conda env:anaconda3]",
   "language": "python",
   "name": "conda-env-anaconda3-py"
  },
  "language_info": {
   "codemirror_mode": {
    "name": "ipython",
    "version": 3
   },
   "file_extension": ".py",
   "mimetype": "text/x-python",
   "name": "python",
   "nbconvert_exporter": "python",
   "pygments_lexer": "ipython3",
   "version": "3.6.4"
  }
 },
 "nbformat": 4,
 "nbformat_minor": 2
}
