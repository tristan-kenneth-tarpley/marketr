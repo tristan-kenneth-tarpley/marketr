{
 "cells": [
  {
   "cell_type": "code",
   "execution_count": 1,
   "metadata": {},
   "outputs": [],
   "source": [
    "import pandas as pd\n",
    "import numpy as np\n",
    "import requests\n",
    "import pyodbc\n",
    "import json\n",
    "import colors\n",
    "import matplotlib.pyplot as plt\n",
    "%matplotlib inline\n",
    "from pprint import pprint\n",
    "from decimal import Decimal\n",
    "from urllib.error import HTTPError\n",
    "from time import time, sleep\n",
    "from watson_developer_cloud import ToneAnalyzerV3\n",
    "from itertools import product"
   ]
  },
  {
   "cell_type": "code",
   "execution_count": 2,
   "metadata": {},
   "outputs": [
    {
     "ename": "ProgrammingError",
     "evalue": "('42000', \"[42000] [Microsoft][ODBC Driver 13 for SQL Server][SQL Server]Cannot open server 'darbly' requested by the login. Client with IP address '172.223.126.36' is not allowed to access the server.  To enable access, use the Windows Azure Management Portal or run sp_set_firewall_rule on the master database to create a firewall rule for this IP address or address range.  It may take up to five minutes for this change to take effect. (40615) (SQLDriverConnect)\")",
     "output_type": "error",
     "traceback": [
      "\u001b[0;31m---------------------------------------------------------------------------\u001b[0m",
      "\u001b[0;31mProgrammingError\u001b[0m                          Traceback (most recent call last)",
      "\u001b[0;32m<ipython-input-2-3a57a40c082c>\u001b[0m in \u001b[0;36m<module>\u001b[0;34m()\u001b[0m\n\u001b[1;32m      5\u001b[0m \u001b[0;34m\u001b[0m\u001b[0m\n\u001b[1;32m      6\u001b[0m \u001b[0mdriver\u001b[0m\u001b[0;34m=\u001b[0m \u001b[0;34m'{ODBC Driver 13 for SQL Server}'\u001b[0m\u001b[0;34m\u001b[0m\u001b[0m\n\u001b[0;32m----> 7\u001b[0;31m \u001b[0mcnxn\u001b[0m \u001b[0;34m=\u001b[0m \u001b[0mpyodbc\u001b[0m\u001b[0;34m.\u001b[0m\u001b[0mconnect\u001b[0m\u001b[0;34m(\u001b[0m\u001b[0;34m'DRIVER='\u001b[0m\u001b[0;34m+\u001b[0m\u001b[0mdriver\u001b[0m\u001b[0;34m+\u001b[0m\u001b[0;34m';SERVER='\u001b[0m\u001b[0;34m+\u001b[0m\u001b[0mserver\u001b[0m\u001b[0;34m+\u001b[0m\u001b[0;34m';PORT=1443;DATABASE='\u001b[0m\u001b[0;34m+\u001b[0m\u001b[0mdatabase\u001b[0m\u001b[0;34m+\u001b[0m\u001b[0;34m';UID='\u001b[0m\u001b[0;34m+\u001b[0m\u001b[0musername\u001b[0m\u001b[0;34m+\u001b[0m\u001b[0;34m';PWD='\u001b[0m\u001b[0;34m+\u001b[0m \u001b[0mpassword\u001b[0m\u001b[0;34m)\u001b[0m\u001b[0;34m\u001b[0m\u001b[0m\n\u001b[0m\u001b[1;32m      8\u001b[0m \u001b[0mcursor\u001b[0m \u001b[0;34m=\u001b[0m \u001b[0mcnxn\u001b[0m\u001b[0;34m.\u001b[0m\u001b[0mcursor\u001b[0m\u001b[0;34m(\u001b[0m\u001b[0;34m)\u001b[0m\u001b[0;34m\u001b[0m\u001b[0m\n",
      "\u001b[0;31mProgrammingError\u001b[0m: ('42000', \"[42000] [Microsoft][ODBC Driver 13 for SQL Server][SQL Server]Cannot open server 'darbly' requested by the login. Client with IP address '172.223.126.36' is not allowed to access the server.  To enable access, use the Windows Azure Management Portal or run sp_set_firewall_rule on the master database to create a firewall rule for this IP address or address range.  It may take up to five minutes for this change to take effect. (40615) (SQLDriverConnect)\")"
     ]
    }
   ],
   "source": [
    "server = 'darbly.database.windows.net'\n",
    "database = 'blendo'\n",
    "username = 'tarpley'\n",
    "password = 'Password123!'\n",
    "\n",
    "driver= '{ODBC Driver 13 for SQL Server}'\n",
    "cnxn = pyodbc.connect('DRIVER='+driver+';SERVER='+server+';PORT=1443;DATABASE='+database+';UID='+username+';PWD='+ password)\n",
    "cursor = cnxn.cursor()"
   ]
  },
  {
   "cell_type": "markdown",
   "metadata": {},
   "source": [
    "## CONNECT DB"
   ]
  },
  {
   "cell_type": "code",
   "execution_count": 3,
   "metadata": {},
   "outputs": [],
   "source": [
    "def sql_to_df(x):\n",
    "    return pd.read_sql_query(x, cnxn, index_col=None, coerce_float=True, params=None, parse_dates=None, chunksize=None)"
   ]
  },
  {
   "cell_type": "code",
   "execution_count": 4,
   "metadata": {},
   "outputs": [],
   "source": [
    "def get_customers():\n",
    "    query = \"SELECT * FROM dbo.customers\"\n",
    "    a = sql_to_df(query)\n",
    "    return a"
   ]
  },
  {
   "cell_type": "code",
   "execution_count": 5,
   "metadata": {},
   "outputs": [
    {
     "data": {
      "text/html": [
       "<div>\n",
       "<style scoped>\n",
       "    .dataframe tbody tr th:only-of-type {\n",
       "        vertical-align: middle;\n",
       "    }\n",
       "\n",
       "    .dataframe tbody tr th {\n",
       "        vertical-align: top;\n",
       "    }\n",
       "\n",
       "    .dataframe thead th {\n",
       "        text-align: right;\n",
       "    }\n",
       "</style>\n",
       "<table border=\"1\" class=\"dataframe\">\n",
       "  <thead>\n",
       "    <tr style=\"text-align: right;\">\n",
       "      <th></th>\n",
       "      <th>id</th>\n",
       "      <th>creative_id</th>\n",
       "      <th>account_id</th>\n",
       "      <th>image_url</th>\n",
       "      <th>image_hash</th>\n",
       "      <th>accent_color</th>\n",
       "      <th>dominant_color_background</th>\n",
       "      <th>dominant_color_foreground</th>\n",
       "      <th>dominant_color_1</th>\n",
       "      <th>is_bw_img</th>\n",
       "      <th>tags_1</th>\n",
       "      <th>caption</th>\n",
       "      <th>confidence</th>\n",
       "      <th>height</th>\n",
       "      <th>width</th>\n",
       "    </tr>\n",
       "  </thead>\n",
       "  <tbody>\n",
       "    <tr>\n",
       "      <th>0</th>\n",
       "      <td>6055342451996</td>\n",
       "      <td>6055342451996</td>\n",
       "      <td>502547756293</td>\n",
       "      <td>https://scontent.xx.fbcdn.net/v/t45.1600-4/125...</td>\n",
       "      <td>2af56bbab93393481e8544cf71e19cb2</td>\n",
       "      <td>None</td>\n",
       "      <td>None</td>\n",
       "      <td>None</td>\n",
       "      <td>None</td>\n",
       "      <td>None</td>\n",
       "      <td>None</td>\n",
       "      <td>None</td>\n",
       "      <td>NaN</td>\n",
       "      <td>NaN</td>\n",
       "      <td>NaN</td>\n",
       "    </tr>\n",
       "    <tr>\n",
       "      <th>1</th>\n",
       "      <td>6055342459396</td>\n",
       "      <td>6055342459396</td>\n",
       "      <td>502547756293</td>\n",
       "      <td>https://scontent.xx.fbcdn.net/v/t45.1600-4/125...</td>\n",
       "      <td>2af56bbab93393481e8544cf71e19cb2</td>\n",
       "      <td>None</td>\n",
       "      <td>None</td>\n",
       "      <td>None</td>\n",
       "      <td>None</td>\n",
       "      <td>None</td>\n",
       "      <td>None</td>\n",
       "      <td>None</td>\n",
       "      <td>NaN</td>\n",
       "      <td>NaN</td>\n",
       "      <td>NaN</td>\n",
       "    </tr>\n",
       "    <tr>\n",
       "      <th>2</th>\n",
       "      <td>6055342459996</td>\n",
       "      <td>6055342459996</td>\n",
       "      <td>502547756293</td>\n",
       "      <td>https://scontent.xx.fbcdn.net/v/t45.1600-4/125...</td>\n",
       "      <td>2af56bbab93393481e8544cf71e19cb2</td>\n",
       "      <td>None</td>\n",
       "      <td>None</td>\n",
       "      <td>None</td>\n",
       "      <td>None</td>\n",
       "      <td>None</td>\n",
       "      <td>None</td>\n",
       "      <td>None</td>\n",
       "      <td>NaN</td>\n",
       "      <td>NaN</td>\n",
       "      <td>NaN</td>\n",
       "    </tr>\n",
       "    <tr>\n",
       "      <th>3</th>\n",
       "      <td>6055342462796</td>\n",
       "      <td>6055342462796</td>\n",
       "      <td>502547756293</td>\n",
       "      <td>https://scontent.xx.fbcdn.net/v/t45.1600-4/125...</td>\n",
       "      <td>2af56bbab93393481e8544cf71e19cb2</td>\n",
       "      <td>None</td>\n",
       "      <td>None</td>\n",
       "      <td>None</td>\n",
       "      <td>None</td>\n",
       "      <td>None</td>\n",
       "      <td>None</td>\n",
       "      <td>None</td>\n",
       "      <td>NaN</td>\n",
       "      <td>NaN</td>\n",
       "      <td>NaN</td>\n",
       "    </tr>\n",
       "    <tr>\n",
       "      <th>4</th>\n",
       "      <td>6055342465396</td>\n",
       "      <td>6055342465396</td>\n",
       "      <td>502547756293</td>\n",
       "      <td>https://scontent.xx.fbcdn.net/v/t45.1600-4/125...</td>\n",
       "      <td>2af56bbab93393481e8544cf71e19cb2</td>\n",
       "      <td>BC180F</td>\n",
       "      <td>Black</td>\n",
       "      <td>Black</td>\n",
       "      <td>Black</td>\n",
       "      <td>False</td>\n",
       "      <td>text</td>\n",
       "      <td>a close up of text on a black background</td>\n",
       "      <td>0.710785</td>\n",
       "      <td>1222.0</td>\n",
       "      <td>1712.0</td>\n",
       "    </tr>\n",
       "  </tbody>\n",
       "</table>\n",
       "</div>"
      ],
      "text/plain": [
       "              id    creative_id    account_id  \\\n",
       "0  6055342451996  6055342451996  502547756293   \n",
       "1  6055342459396  6055342459396  502547756293   \n",
       "2  6055342459996  6055342459996  502547756293   \n",
       "3  6055342462796  6055342462796  502547756293   \n",
       "4  6055342465396  6055342465396  502547756293   \n",
       "\n",
       "                                           image_url  \\\n",
       "0  https://scontent.xx.fbcdn.net/v/t45.1600-4/125...   \n",
       "1  https://scontent.xx.fbcdn.net/v/t45.1600-4/125...   \n",
       "2  https://scontent.xx.fbcdn.net/v/t45.1600-4/125...   \n",
       "3  https://scontent.xx.fbcdn.net/v/t45.1600-4/125...   \n",
       "4  https://scontent.xx.fbcdn.net/v/t45.1600-4/125...   \n",
       "\n",
       "                         image_hash accent_color dominant_color_background  \\\n",
       "0  2af56bbab93393481e8544cf71e19cb2         None                      None   \n",
       "1  2af56bbab93393481e8544cf71e19cb2         None                      None   \n",
       "2  2af56bbab93393481e8544cf71e19cb2         None                      None   \n",
       "3  2af56bbab93393481e8544cf71e19cb2         None                      None   \n",
       "4  2af56bbab93393481e8544cf71e19cb2       BC180F                     Black   \n",
       "\n",
       "  dominant_color_foreground dominant_color_1 is_bw_img tags_1  \\\n",
       "0                      None             None      None   None   \n",
       "1                      None             None      None   None   \n",
       "2                      None             None      None   None   \n",
       "3                      None             None      None   None   \n",
       "4                     Black            Black     False   text   \n",
       "\n",
       "                                    caption  confidence  height   width  \n",
       "0                                      None         NaN     NaN     NaN  \n",
       "1                                      None         NaN     NaN     NaN  \n",
       "2                                      None         NaN     NaN     NaN  \n",
       "3                                      None         NaN     NaN     NaN  \n",
       "4  a close up of text on a black background    0.710785  1222.0  1712.0  "
      ]
     },
     "execution_count": 5,
     "metadata": {},
     "output_type": "execute_result"
    }
   ],
   "source": [
    "a = sql_to_df('select * from dbo.image_attributes')\n",
    "a.head()"
   ]
  },
  {
   "cell_type": "code",
   "execution_count": 6,
   "metadata": {},
   "outputs": [],
   "source": [
    "def debug(strSQL):\n",
    "    print(strSQL)"
   ]
  },
  {
   "cell_type": "markdown",
   "metadata": {},
   "source": [
    "## API KEYS\n",
    "Initializing APIs and updating database with attributes"
   ]
  },
  {
   "cell_type": "code",
   "execution_count": 7,
   "metadata": {},
   "outputs": [],
   "source": [
    "vision_subscription_key = '8359f1b134914ab1a1137c5a1d9d547c'\n",
    "assert vision_subscription_key"
   ]
  },
  {
   "cell_type": "code",
   "execution_count": 8,
   "metadata": {},
   "outputs": [],
   "source": [
    "text_subscription_key = '45f31e1a295e414b8d71319b79a405e0'\n",
    "assert text_subscription_key"
   ]
  },
  {
   "cell_type": "markdown",
   "metadata": {},
   "source": [
    "### Vision api"
   ]
  },
  {
   "cell_type": "code",
   "execution_count": 9,
   "metadata": {},
   "outputs": [],
   "source": [
    "vision_base_url = \"https://southcentralus.api.cognitive.microsoft.com/vision/v1.0/\"\n",
    "vision_analyze_url = vision_base_url + \"analyze\"\n",
    "image_url = 'https://images.wagwalkingweb.com/media/breed/dachshund/appearance/dachshund.png?auto=compress&fit=max'"
   ]
  },
  {
   "cell_type": "code",
   "execution_count": 10,
   "metadata": {},
   "outputs": [],
   "source": [
    "vision_headers  = {'Ocp-Apim-Subscription-Key': vision_subscription_key }\n",
    "vision_params   = {'visualFeatures': 'Categories,Description,Color'}"
   ]
  },
  {
   "cell_type": "markdown",
   "metadata": {},
   "source": [
    "### Clean up"
   ]
  },
  {
   "cell_type": "markdown",
   "metadata": {},
   "source": [
    "### Populate Image Attributes DB"
   ]
  },
  {
   "cell_type": "code",
   "execution_count": 11,
   "metadata": {},
   "outputs": [],
   "source": [
    "def img_attr_to_memory():\n",
    "    image_attr_query = \"select * from dbo.image_attributes as dboi\"\n",
    "    image_attr_df = sql_to_df(image_attr_query)\n",
    "    image_attr_df = image_attr_df.drop_duplicates(subset=['image_hash'], keep='last')"
   ]
  },
  {
   "cell_type": "code",
   "execution_count": 12,
   "metadata": {},
   "outputs": [],
   "source": [
    "def get_img_attr(img, row_select):\n",
    "    vision_data     = {'url': img}\n",
    "    try:\n",
    "        vision_response = requests.post(vision_analyze_url, headers=vision_headers, params=vision_params, json=vision_data)\n",
    "        vision_response.raise_for_status()\n",
    "\n",
    "        analysis = vision_response.json()\n",
    "\n",
    "        accent_color = analysis['color']['accentColor']\n",
    "        dom_color_back = analysis['color']['dominantColorBackground']\n",
    "        dom_color_fore = analysis['color']['dominantColorForeground']\n",
    "\n",
    "        is_bw = analysis['color']['isBwImg']\n",
    "\n",
    "        height = analysis['metadata']['height']\n",
    "        width = analysis['metadata']['width']  \n",
    "\n",
    "        try:\n",
    "            confidence = analysis['description']['captions'][0]['confidence']\n",
    "            caption = analysis['description']['captions'][0]['text']\n",
    "            tags_1 = analysis['description']['tags'][0]\n",
    "            dom_colors_1 = analysis['color']['dominantColors'][0]\n",
    "\n",
    "            update_statement = \"\"\"UPDATE dbo.image_attributes \n",
    "                                    SET accent_color = '\"\"\" + str(accent_color) + \"\"\"',\n",
    "                                    dominant_color_background = '\"\"\" + dom_color_back + \"\"\"',\n",
    "                                    dominant_color_foreground = '\"\"\" + dom_color_fore + \"\"\"',\n",
    "                                    dominant_color_1 = '\"\"\" + dom_colors_1 + \"\"\"',\n",
    "                                    is_bw_img = '\"\"\" + str(is_bw) + \"\"\"',\n",
    "                                    tags_1 = '\"\"\" + tags_1 + \"\"\"',\n",
    "                                    caption = '\"\"\" + caption + \"\"\"',\n",
    "                                    confidence = \"\"\" + str(confidence) + \"\"\",\n",
    "                                    height = \"\"\" + str(height) + \"\"\",\n",
    "                                    width = \"\"\" + str(width) + \"\"\"\n",
    "                                    WHERE id='\"\"\" + row_select + \"\"\"';\n",
    "                                  commit;\"\"\"\n",
    "\n",
    "        except IndexError:\n",
    "            try:\n",
    "                #without tags\n",
    "                confidence = analysis['description']['captions'][0]['confidence']\n",
    "                caption = analysis['description']['captions'][0]['text']\n",
    "\n",
    "                dom_colors_1 = analysis['color']['dominantColors'][0]\n",
    "\n",
    "                update_statement = \"\"\"UPDATE dbo.image_attributes \n",
    "                                        SET accent_color = '\"\"\" + str(accent_color) + \"\"\"',\n",
    "                                            dominant_color_background = '\"\"\" + dom_color_back + \"\"\"',\n",
    "                                            dominant_color_foreground = '\"\"\" + dom_color_fore + \"\"\"',\n",
    "                                            dominant_color_1 = '\"\"\" + dom_colors_1 + \"\"\"',\n",
    "                                            is_bw_img = '\"\"\" + str(is_bw) + \"\"\"',\n",
    "                                            caption = '\"\"\" + caption + \"\"\"',\n",
    "                                            confidence = \"\"\" + str(confidence) + \"\"\",\n",
    "                                            height = \"\"\" + str(height) + \"\"\",\n",
    "                                            width = \"\"\" + str(width) + \"\"\"\n",
    "                                            WHERE id='\"\"\" + row_select + \"\"\"';\n",
    "                                      commit;\"\"\"\n",
    "\n",
    "            except IndexError:\n",
    "                try:\n",
    "                    #without caption, add tags\n",
    "                    confidence = analysis['description']['captions'][0]['confidence']\n",
    "                    tags_1 = analysis['description']['tags'][0]     \n",
    "                    dom_colors_1 = analysis['color']['dominantColors'][0]\n",
    "\n",
    "                    update_statement = \"\"\"UPDATE dbo.image_attributes \n",
    "                                            SET accent_color = '\"\"\" + str(accent_color) + \"\"\"',\n",
    "                                                dominant_color_background = '\"\"\" + dom_color_back + \"\"\"',\n",
    "                                                dominant_color_foreground = '\"\"\" + dom_color_fore + \"\"\"',\n",
    "                                                dominant_color_1 = '\"\"\" + dom_colors_1 + \"\"\"',\n",
    "                                                is_bw_img = '\"\"\" + str(is_bw) + \"\"\"',\n",
    "                                                tags_1 = '\"\"\" + tags_1 + \"\"\"',\n",
    "                                                confidence = \"\"\" + str(confidence) + \"\"\",\n",
    "                                                height = \"\"\" + str(height) + \"\"\",\n",
    "                                                width = \"\"\" + str(width) + \"\"\"\n",
    "                                                WHERE id='\"\"\" + row_select + \"\"\"';\n",
    "                                          commit;\"\"\"\n",
    "\n",
    "                except IndexError:\n",
    "                    try:\n",
    "                        #without caption and without tags \n",
    "                        dom_colors_1 = analysis['color']['dominantColors'][0]\n",
    "                        confidence = analysis['description']['captions'][0]['confidence']\n",
    "                        update_statement = \"\"\"UPDATE dbo.image_attributes \n",
    "                                                SET accent_color = '\"\"\" + str(accent_color) + \"\"\"',\n",
    "                                                    dominant_color_background = '\"\"\" + dom_color_back + \"\"\"',\n",
    "                                                    dominant_color_foreground = '\"\"\" + dom_color_fore + \"\"\"',\n",
    "                                                    dominant_color_1 = '\"\"\" + dom_colors_1 + \"\"\"',\n",
    "                                                    is_bw_img = '\"\"\" + str(is_bw) + \"\"\"',\n",
    "                                                    confidence = \"\"\" + str(confidence) + \"\"\",\n",
    "                                                    height = \"\"\" + str(height) + \"\"\",\n",
    "                                                    width = \"\"\" + str(width) + \"\"\"\n",
    "                                                    WHERE id='\"\"\" + row_select + \"\"\"';\n",
    "                                              commit;\"\"\"\n",
    "\n",
    "                    except IndexError:\n",
    "                        try:\n",
    "                            #without caption, tags, and dom_colors_1\n",
    "                            confidence = analysis['description']['captions'][0]['confidence']\n",
    "\n",
    "                            update_statement = \"\"\"UPDATE dbo.image_attributes \n",
    "                                                    SET accent_color = '\"\"\" + str(accent_color) + \"\"\"',\n",
    "                                                        dominant_color_background = '\"\"\" + dom_color_back + \"\"\"',\n",
    "                                                        dominant_color_foreground = '\"\"\" + dom_color_fore + \"\"\"',\n",
    "                                                        is_bw_img = '\"\"\" + str(is_bw) + \"\"\"',\n",
    "                                                        confidence = \"\"\" + str(confidence) + \"\"\",\n",
    "                                                        height = \"\"\" + str(height) + \"\"\",\n",
    "                                                        width = \"\"\" + str(width) + \"\"\"\n",
    "                                                        WHERE id='\"\"\" + row_select + \"\"\"';\n",
    "                                                commit;\"\"\"\n",
    "                        except IndexError:\n",
    "                            try:\n",
    "                                #without confidence, tags, caption, and dom_colors\n",
    "                                update_statement = \"\"\"UPDATE dbo.image_attributes \n",
    "                                                        SET accent_color = '\"\"\" + str(accent_color) + \"\"\"',\n",
    "                                                            dominant_color_background = '\"\"\" + dom_color_back + \"\"\"',\n",
    "                                                            dominant_color_foreground = '\"\"\" + dom_color_fore + \"\"\"',\n",
    "                                                            is_bw_img = '\"\"\" + str(is_bw) + \"\"\"',\n",
    "                                                            height = \"\"\" + str(height) + \"\"\",\n",
    "                                                            width = \"\"\" + str(width) + \"\"\"\n",
    "                                                            WHERE id='\"\"\" + row_select + \"\"\"';\n",
    "                                                      commit;\"\"\"\n",
    "                            except IndexError:\n",
    "                                try:\n",
    "                                    #same as above, add confidence and caption\n",
    "                                    caption = analysis['description']['captions'][0]['text']\n",
    "                                    confidence = analysis['description']['captions'][0]['confidence']\n",
    "                                    update_statement = \"\"\"UPDATE dbo.image_attributes \n",
    "                                                            SET accent_color = '\"\"\" + str(accent_color) + \"\"\"', \n",
    "                                                            dominant_color_background = '\"\"\" + dom_color_back + \"\"\"', \n",
    "                                                            dominant_color_foreground = '\"\"\" + dom_color_fore + \"\"\"', \n",
    "                                                            is_bw_img = '\"\"\" + str(is_bw) + \"\"\"', \n",
    "                                                            caption = '\"\"\" + caption + \"\"\"', \n",
    "                                                            confidence = \"\"\" + str(confidence) + \"\"\", \n",
    "                                                            height = \"\"\" + str(height) + \"\"\", \n",
    "                                                            width = \"\"\" + str(width) + \"\"\" \n",
    "                                                            WHERE id='\"\"\" + row_select + \"\"\"';\n",
    "                                                          commit;\"\"\"\n",
    "                                except IndexError:\n",
    "                                    print('idk')\n",
    "\n",
    "    except requests.exceptions.HTTPError as err:\n",
    "        print(err)\n",
    "        return\n",
    "                    \n",
    "    return update_statement"
   ]
  },
  {
   "cell_type": "code",
   "execution_count": 13,
   "metadata": {
    "scrolled": true
   },
   "outputs": [],
   "source": [
    "def update_img_attr(df):\n",
    "    counter = 0\n",
    "    for index, row in df.iterrows(): \n",
    "        starttime = time()\n",
    "        counter += 1\n",
    "        if counter < 20:\n",
    "            update_statement = get_img_attr(row['image_url'], row['id'])\n",
    "\n",
    "            print(index)\n",
    "            debug(update_statement)\n",
    "            if update_statement == None:\n",
    "                continue\n",
    "            else:\n",
    "                cursor.execute(update_statement)    \n",
    "        else:\n",
    "            counter = 0\n",
    "            sleep(60.0 - ((time() - starttime) % 60.0))\n",
    "        \n",
    "        continue"
   ]
  },
  {
   "cell_type": "markdown",
   "metadata": {},
   "source": [
    "# Update text attributes DB"
   ]
  },
  {
   "cell_type": "markdown",
   "metadata": {},
   "source": [
    "## Clean up"
   ]
  },
  {
   "cell_type": "code",
   "execution_count": 14,
   "metadata": {
    "scrolled": true
   },
   "outputs": [],
   "source": [
    "text_attr_query = \"select * from dbo.text_attributes as dboi\"\n",
    "text_attr_df = sql_to_df(text_attr_query)\n",
    "text_attr_df = text_attr_df.dropna(subset=[\"body\"], how='any')\n",
    "text_attr_df = text_attr_df.loc[660:]"
   ]
  },
  {
   "cell_type": "code",
   "execution_count": 15,
   "metadata": {},
   "outputs": [
    {
     "data": {
      "text/plain": [
       "(137, 28)"
      ]
     },
     "execution_count": 15,
     "metadata": {},
     "output_type": "execute_result"
    }
   ],
   "source": [
    "text_attr_df.shape"
   ]
  },
  {
   "cell_type": "markdown",
   "metadata": {},
   "source": [
    "### TEXT AI API"
   ]
  },
  {
   "cell_type": "code",
   "execution_count": 16,
   "metadata": {},
   "outputs": [
    {
     "name": "stdout",
     "output_type": "stream",
     "text": [
      "https://southcentralus.api.cognitive.microsoft.com/text/analytics/v2.0/languages\n"
     ]
    }
   ],
   "source": [
    "text_analytics_base_url = \"https://southcentralus.api.cognitive.microsoft.com/text/analytics/v2.0/\"\n",
    "language_api_url = text_analytics_base_url + \"languages\"\n",
    "print(language_api_url)"
   ]
  },
  {
   "cell_type": "markdown",
   "metadata": {},
   "source": [
    "### SENTIMENT"
   ]
  },
  {
   "cell_type": "code",
   "execution_count": 17,
   "metadata": {},
   "outputs": [
    {
     "name": "stdout",
     "output_type": "stream",
     "text": [
      "https://southcentralus.api.cognitive.microsoft.com/text/analytics/v2.0/sentiment\n"
     ]
    }
   ],
   "source": [
    "sentiment_api_url = text_analytics_base_url + \"sentiment\"\n",
    "print(sentiment_api_url)"
   ]
  },
  {
   "cell_type": "markdown",
   "metadata": {},
   "source": [
    "## Watson emotional analysis"
   ]
  },
  {
   "cell_type": "code",
   "execution_count": 18,
   "metadata": {},
   "outputs": [],
   "source": [
    "tone_analyzer = ToneAnalyzerV3(\n",
    "    version ='2017-09-21',\n",
    "    username ='e4a9a55c-764e-4799-8c00-b0886bb6f019',\n",
    "    password ='bMhV1vmUBzaq'\n",
    ")"
   ]
  },
  {
   "cell_type": "markdown",
   "metadata": {},
   "source": [
    "{'document_tone': {'tones': [{'score': 0.855712,\n",
    "                              'tone_id': 'confident',\n",
    "                              'tone_name': 'Confident'}]},\n",
    " 'sentences_tone': [{'sentence_id': 0,\n",
    "                     'text': 'Through it all, I am optimistic.',\n",
    "                     'tones': [{'score': 0.942582,\n",
    "                                'tone_id': 'confident',\n",
    "                                'tone_name': 'Confident'}]},\n",
    "                    {'sentence_id': 1,\n",
    "                     'text': 'But we have to get our shit together.',\n",
    "                     'tones': [{'score': 0.637978,\n",
    "                                'tone_id': 'anger',\n",
    "                                'tone_name': 'Anger'},\n",
    "                               {'score': 0.866237,\n",
    "                                'tone_id': 'confident',\n",
    "                                'tone_name': 'Confident'}]},\n",
    "                    {'sentence_id': 2,\n",
    "                     'text': 'We have a superior product, we just are not '\n",
    "                             'selling it well enough!',\n",
    "                     'tones': [{'score': 0.589295,\n",
    "                                'tone_id': 'analytical',\n",
    "                                'tone_name': 'Analytical'},\n",
    "                               {'score': 0.716301,\n",
    "                                'tone_id': 'tentative',\n",
    "                                'tone_name': 'Tentative'}]}]}"
   ]
  },
  {
   "cell_type": "code",
   "execution_count": 19,
   "metadata": {},
   "outputs": [],
   "source": [
    "def get_emotional(text, row_select):\n",
    "    content_type = 'application/json'\n",
    "    res = tone_analyzer.tone({\"text\": text},content_type)\n",
    "    pos = 0\n",
    "    \n",
    "    try:\n",
    "\n",
    "        while pos < (len(res['sentences_tone']) - 1):\n",
    "            pos += 1\n",
    "            i = 0\n",
    "            if res['sentences_tone'][pos]['tones'] != []:\n",
    "                while i <= (len(res['sentences_tone'][pos]['tones']) - 1):\n",
    "\n",
    "                    score = res['sentences_tone'][pos]['tones'][i]['score']\n",
    "                    tone_name = res['sentences_tone'][pos]['tones'][i]['tone_name']    \n",
    "                    sample_text = res['sentences_tone'][pos]['text']\n",
    "\n",
    "                    update_statement = \"\"\"UPDATE dbo.text_attributes\n",
    "                                            SET tone_\"\"\" + str(pos) + \"\"\" = '\"\"\" + str(tone_name) + \"\"\"',\n",
    "                                                text_sample_\"\"\" + str(pos) + \"\"\" = '\"\"\" + str(sample_text) + \"\"\"',\n",
    "                                                score_\"\"\" + str(pos) + \"\"\" = \"\"\" + str(score) + \"\"\"\n",
    "                                          WHERE id='\"\"\" + str(row_select) + \"\"\"'; commit;\"\"\" \n",
    "\n",
    "                    debug(update_statement)\n",
    "                    try:\n",
    "                        cursor.execute(update_statement)\n",
    "                    except:\n",
    "                        break\n",
    "\n",
    "                    i += 1\n",
    "            else:\n",
    "                continue\n",
    "\n",
    "\n",
    "\n",
    "    except KeyError:\n",
    "        while pos <= (len(res['document_tone']['tones']) - 1):\n",
    "            score = res['document_tone']['tones'][pos]['score']\n",
    "            tone_name = res['document_tone']['tones'][pos]['tone_name']\n",
    "\n",
    "\n",
    "            pos += 1\n",
    "            \n",
    "            update_statement = \"\"\"UPDATE dbo.text_attributes\n",
    "                                    SET tone_\"\"\" + str(pos) + \"\"\" = '\"\"\" + str(tone_name) + \"\"\"',\n",
    "                                        score_\"\"\" + str(pos) + \"\"\" = \"\"\" + str(score) + \"\"\"\n",
    "                                  WHERE id='\"\"\" + str(row_select) + \"\"\"'; commit;\"\"\" \n",
    "            \n",
    "            debug(update_statement)\n",
    "            try:\n",
    "                cursor.execute(update_statement)\n",
    "            except:\n",
    "                break"
   ]
  },
  {
   "cell_type": "code",
   "execution_count": 20,
   "metadata": {},
   "outputs": [],
   "source": [
    "counter = 0"
   ]
  },
  {
   "cell_type": "code",
   "execution_count": 21,
   "metadata": {},
   "outputs": [],
   "source": [
    "def update_emotions():\n",
    "    for index, row in text_attr_df.iterrows():\n",
    "        starttime = time()\n",
    "\n",
    "        print(index)\n",
    "        body_copy = row['body'].replace(\"'\", \"\")\n",
    "        get_emotional(body_copy, row['id'])"
   ]
  },
  {
   "cell_type": "markdown",
   "metadata": {},
   "source": [
    "## Last Index is 838, len is 597"
   ]
  },
  {
   "cell_type": "markdown",
   "metadata": {},
   "source": [
    "### KEY PHRASES"
   ]
  },
  {
   "cell_type": "code",
   "execution_count": 22,
   "metadata": {},
   "outputs": [
    {
     "name": "stdout",
     "output_type": "stream",
     "text": [
      "https://southcentralus.api.cognitive.microsoft.com/text/analytics/v2.0/keyPhrases\n"
     ]
    }
   ],
   "source": [
    "key_phrase_api_url = text_analytics_base_url + \"keyPhrases\"\n",
    "print(key_phrase_api_url)"
   ]
  },
  {
   "cell_type": "code",
   "execution_count": 23,
   "metadata": {},
   "outputs": [],
   "source": [
    "text_doc = {'documents' : [\n",
    "    { 'id': '1', 'language': 'en', 'text': 'The quick brown fox jumped over the lazy sheepdog' },\n",
    "]}\n",
    "\n",
    "key_phrases_headers   = {\"Ocp-Apim-Subscription-Key\": text_subscription_key}\n",
    "key_phrases_response  = requests.post(key_phrase_api_url, headers=key_phrases_headers, json=text_doc)\n",
    "key_phrases = key_phrases_response.json()\n"
   ]
  },
  {
   "cell_type": "code",
   "execution_count": 24,
   "metadata": {},
   "outputs": [
    {
     "data": {
      "text/plain": [
       "2"
      ]
     },
     "execution_count": 24,
     "metadata": {},
     "output_type": "execute_result"
    }
   ],
   "source": [
    "t = key_phrases['documents'][0]['keyPhrases'][1]\n",
    "len(key_phrases['documents'][0])"
   ]
  },
  {
   "cell_type": "code",
   "execution_count": 25,
   "metadata": {},
   "outputs": [],
   "source": [
    "def get_key_phrases(text, row_select, err):\n",
    "    text_doc = {'documents' : [\n",
    "        { 'id': '1', 'language': 'en', 'text': text },\n",
    "    ]}\n",
    "    \n",
    "    key_phrases_headers   = {\"Ocp-Apim-Subscription-Key\": text_subscription_key}\n",
    "    key_phrases_response  = requests.post(key_phrase_api_url, headers=key_phrases_headers, json=text_doc)\n",
    "    key_phrases = key_phrases_response.json()\n",
    "    phrase_len = len(key_phrases['documents'][0])\n",
    "    \n",
    "    try:\n",
    "        if phrase_len == 1:\n",
    "            key_1 = key_phrases['documents'][0]['keyPhrases'][0]\n",
    "            \n",
    "            update_statement = \"UPDATE dbo.text_attributes SET key_phrases_1 = '\" + str(key_1) + \"' WHERE id='\" + row_select + \"'; commit;\"\n",
    "            \n",
    "        elif phrase_len == 2:\n",
    "            key_1 = key_phrases['documents'][0]['keyPhrases'][0]\n",
    "            key_2 = key_phrases['documents'][0]['keyPhrases'][1]\n",
    "            \n",
    "            update_statement = \"UPDATE dbo.text_attributes SET key_phrases_1 = '\" + str(key_1) + \"', key_phrases_2 = '\" + str(key_2) + \"' WHERE id='\" + row_select + \"'; commit;\"\n",
    "            \n",
    "            \n",
    "        elif phrase_len == 3:\n",
    "            key_1 = key_phrases['documents'][0]['keyPhrases'][0]\n",
    "            key_2 = key_phrases['documents'][0]['keyPhrases'][1]\n",
    "            key_3 = key_phrases['documents'][0]['keyPhrases'][2]\n",
    "            \n",
    "            update_statement = \"UPDATE dbo.text_attributes SET key_phrases_1 = '\" + str(key_1) + \"', key_phrases_2 = '\" + str(key_2) + \"', key_phrases_2 = '\" + str(key_3) + \"' WHERE id='\" + row_select + \"'; commit;\"\n",
    "            \n",
    "        elif phrase_len == 4:\n",
    "            key_1 = key_phrases['documents'][0]['keyPhrases'][0]\n",
    "            key_2 = key_phrases['documents'][0]['keyPhrases'][1]\n",
    "            key_3 = key_phrases['documents'][0]['keyPhrases'][2]\n",
    "            key_4 = key_phrases['documents'][0]['keyPhrases'][3]\n",
    "            \n",
    "            update_statement = \"UPDATE dbo.text_attributes SET key_phrases_1 = '\" + str(key_1) + \"', key_phrases_2 = '\" + str(key_2) + \"', key_phrases_2 = '\" + str(key_3) + \"', key_phrases_4 = '\" + str(key_4) + \"' WHERE id='\" + row_select + \"'; commit;\"\n",
    "            \n",
    "        elif phrase_len == 5:\n",
    "            key_1 = key_phrases['documents'][0]['keyPhrases'][0]\n",
    "            key_2 = key_phrases['documents'][0]['keyPhrases'][1]\n",
    "            key_3 = key_phrases['documents'][0]['keyPhrases'][2]\n",
    "            key_4 = key_phrases['documents'][0]['keyPhrases'][3]\n",
    "            key_5 = key_phrases['documents'][0]['keyPhrases'][4]\n",
    "            \n",
    "            update_statement = \"UPDATE dbo.text_attributes SET key_phrases_1 = '\" + str(key_1) + \"', key_phrases_2 = '\" + str(key_2) + \"', key_phrases_2 = '\" + str(key_3) + \"', key_phrases_4 = '\" + str(key_4) + \"', key_phrases_5 = '\" + str(key_5) + \"' WHERE id='\" + row_select + \"'; commit;\"\n",
    "        \n",
    "        else:\n",
    "            return\n",
    "        \n",
    "    except IndexError:\n",
    "        print(key_phrases)\n",
    "        print(err)\n",
    "        update_statement = str(key_phrases) + \" \" + str(err)\n",
    "    except KeyError:\n",
    "        print(key_phrases)\n",
    "        print(err)\n",
    "        update_statement = str(key_phrases) + \" \" + str(err)\n",
    "        \n",
    "    return update_statement"
   ]
  },
  {
   "cell_type": "code",
   "execution_count": 26,
   "metadata": {},
   "outputs": [],
   "source": [
    "def update_key_phrases_attr():\n",
    "    counter = 0\n",
    "    for index, row in text_attr_df.iterrows():\n",
    "        starttime = time()\n",
    "        counter += 1\n",
    "        if counter < 20:\n",
    "            update_statement = get_key_phrases(row['body'], row['id'], index)\n",
    "            print(index)\n",
    "            debug(update_statement)\n",
    "\n",
    "            if update_statement == None:\n",
    "                continue\n",
    "            else:\n",
    "                try:\n",
    "                    cursor.execute(update_statement)\n",
    "                except:\n",
    "                    continue\n",
    "\n",
    "        else:\n",
    "            counter = 0\n",
    "            sleep(60.0 - ((time() - starttime) % 60.0))\n"
   ]
  },
  {
   "cell_type": "markdown",
   "metadata": {},
   "source": [
    "##############"
   ]
  },
  {
   "cell_type": "code",
   "execution_count": 27,
   "metadata": {},
   "outputs": [],
   "source": [
    "def get_sentiment_attr(text, row_select, err):\n",
    "    text_doc = {'documents' : [\n",
    "        { 'id': '1', 'language': 'en', 'text': text },\n",
    "    ]}\n",
    "    a = json.dumps(text_doc)\n",
    "    \n",
    "    sentiment_headers   = {\"Ocp-Apim-Subscription-Key\": text_subscription_key}\n",
    "    sentiment_response  = requests.post(sentiment_api_url, headers=sentiment_headers, json=text_doc)\n",
    "    sentiments = sentiment_response.json()\n",
    "    \n",
    "    try:\n",
    "        sentiment_score = sentiments['documents'][0]['score']    \n",
    "        update_statement = \"UPDATE dbo.text_attributes SET sentiment = \" + str(sentiment_score) + \" WHERE id='\" + row_select + \"'; commit;\"\n",
    "        \n",
    "    except IndexError:\n",
    "        print(sentiments)\n",
    "        print(err)\n",
    "        update_statement = str(sentiments) + \" \" + str(err)\n",
    "    except KeyError:\n",
    "        print(sentiments)\n",
    "        print(err)\n",
    "        update_statement = str(sentiments) + \" \" + str(err)\n",
    "    \n",
    "    return update_statement"
   ]
  },
  {
   "cell_type": "code",
   "execution_count": 28,
   "metadata": {},
   "outputs": [],
   "source": [
    "def update_text_attr():\n",
    "    counter = 0\n",
    "    for index, row in text_attr_df.iterrows():\n",
    "        starttime = time()\n",
    "        counter += 1\n",
    "        if counter < 20:\n",
    "            update_statement = get_sentiment_attr(row['body'], row['id'], index)\n",
    "            print(index)\n",
    "            debug(update_statement)\n",
    "            \n",
    "            if update_statement == None:\n",
    "                continue\n",
    "            else:\n",
    "                cursor.execute(update_statement)\n",
    "        \n",
    "        else:\n",
    "            counter = 0\n",
    "            sleep(60.0 - ((time() - starttime) % 60.0))"
   ]
  },
  {
   "cell_type": "markdown",
   "metadata": {},
   "source": [
    "-----------------------------------------------\n",
    "-----------------------------------------------\n",
    "-----------------------------------------------\n",
    "-----------------------------------------------\n",
    "-----------------------------------------------\n",
    "-----------------------------------------------\n",
    "# Let the analysis...........BEGIN\n",
    "\n",
    "Attributes:\n",
    "- accent color, primary back, primary fore\n",
    "- Cost Per Acquisition (from insights_actions)\n",
    "-----------------------------------------------\n",
    "-----------------------------------------------\n",
    "-----------------------------------------------\n",
    "-----------------------------------------------\n",
    "-----------------------------------------------\n",
    "-----------------------------------------------"
   ]
  },
  {
   "cell_type": "markdown",
   "metadata": {},
   "source": [
    "### Get action stats"
   ]
  },
  {
   "cell_type": "code",
   "execution_count": 29,
   "metadata": {},
   "outputs": [],
   "source": [
    "actions_query = \"\"\"\n",
    "                    SELECT  ad_id,\n",
    "                            clicks,\n",
    "                            cost_per_10_sec_video_view_value,\n",
    "                            cpc,\n",
    "                            cpp,\n",
    "                            cpm,\n",
    "                            ctr,\n",
    "                            impressions,\n",
    "                            reach,\n",
    "                            relevance_score_score,\n",
    "                            relevance_score_status\n",
    "                            \n",
    "                            \n",
    "                    FROM    dbo.ad_insights\n",
    "                \"\"\"\n",
    "actions_df = sql_to_df(actions_query)"
   ]
  },
  {
   "cell_type": "code",
   "execution_count": 30,
   "metadata": {},
   "outputs": [
    {
     "data": {
      "text/html": [
       "<div>\n",
       "<style scoped>\n",
       "    .dataframe tbody tr th:only-of-type {\n",
       "        vertical-align: middle;\n",
       "    }\n",
       "\n",
       "    .dataframe tbody tr th {\n",
       "        vertical-align: top;\n",
       "    }\n",
       "\n",
       "    .dataframe thead th {\n",
       "        text-align: right;\n",
       "    }\n",
       "</style>\n",
       "<table border=\"1\" class=\"dataframe\">\n",
       "  <thead>\n",
       "    <tr style=\"text-align: right;\">\n",
       "      <th></th>\n",
       "      <th>ad_id</th>\n",
       "      <th>clicks</th>\n",
       "      <th>cost_per_10_sec_video_view_value</th>\n",
       "      <th>cpc</th>\n",
       "      <th>cpp</th>\n",
       "      <th>cpm</th>\n",
       "      <th>ctr</th>\n",
       "      <th>impressions</th>\n",
       "      <th>reach</th>\n",
       "      <th>relevance_score_score</th>\n",
       "      <th>relevance_score_status</th>\n",
       "    </tr>\n",
       "  </thead>\n",
       "  <tbody>\n",
       "    <tr>\n",
       "      <th>0</th>\n",
       "      <td>6102421399996</td>\n",
       "      <td>13.0</td>\n",
       "      <td>0.134894</td>\n",
       "      <td>0.487692</td>\n",
       "      <td>8.590786</td>\n",
       "      <td>8.521505</td>\n",
       "      <td>1.747312</td>\n",
       "      <td>744.0</td>\n",
       "      <td>738.0</td>\n",
       "      <td>7.0</td>\n",
       "      <td>OK</td>\n",
       "    </tr>\n",
       "    <tr>\n",
       "      <th>1</th>\n",
       "      <td>6102615753196</td>\n",
       "      <td>15.0</td>\n",
       "      <td>0.076418</td>\n",
       "      <td>0.341333</td>\n",
       "      <td>10.178926</td>\n",
       "      <td>9.208633</td>\n",
       "      <td>2.697842</td>\n",
       "      <td>556.0</td>\n",
       "      <td>503.0</td>\n",
       "      <td>7.0</td>\n",
       "      <td>OK</td>\n",
       "    </tr>\n",
       "    <tr>\n",
       "      <th>2</th>\n",
       "      <td>6102962578196</td>\n",
       "      <td>9.0</td>\n",
       "      <td>NaN</td>\n",
       "      <td>0.638889</td>\n",
       "      <td>11.431412</td>\n",
       "      <td>11.386139</td>\n",
       "      <td>1.782178</td>\n",
       "      <td>505.0</td>\n",
       "      <td>503.0</td>\n",
       "      <td>6.0</td>\n",
       "      <td>OK</td>\n",
       "    </tr>\n",
       "    <tr>\n",
       "      <th>3</th>\n",
       "      <td>6097806702196</td>\n",
       "      <td>0.0</td>\n",
       "      <td>NaN</td>\n",
       "      <td>NaN</td>\n",
       "      <td>5.000000</td>\n",
       "      <td>5.000000</td>\n",
       "      <td>0.000000</td>\n",
       "      <td>6.0</td>\n",
       "      <td>6.0</td>\n",
       "      <td>NaN</td>\n",
       "      <td>NOT_ENOUGH_IMPRESSIONS</td>\n",
       "    </tr>\n",
       "    <tr>\n",
       "      <th>4</th>\n",
       "      <td>6102421399996</td>\n",
       "      <td>6.0</td>\n",
       "      <td>0.180270</td>\n",
       "      <td>1.111667</td>\n",
       "      <td>10.880914</td>\n",
       "      <td>10.706260</td>\n",
       "      <td>0.963082</td>\n",
       "      <td>623.0</td>\n",
       "      <td>613.0</td>\n",
       "      <td>5.0</td>\n",
       "      <td>OK</td>\n",
       "    </tr>\n",
       "  </tbody>\n",
       "</table>\n",
       "</div>"
      ],
      "text/plain": [
       "           ad_id  clicks  cost_per_10_sec_video_view_value       cpc  \\\n",
       "0  6102421399996    13.0                          0.134894  0.487692   \n",
       "1  6102615753196    15.0                          0.076418  0.341333   \n",
       "2  6102962578196     9.0                               NaN  0.638889   \n",
       "3  6097806702196     0.0                               NaN       NaN   \n",
       "4  6102421399996     6.0                          0.180270  1.111667   \n",
       "\n",
       "         cpp        cpm       ctr  impressions  reach  relevance_score_score  \\\n",
       "0   8.590786   8.521505  1.747312        744.0  738.0                    7.0   \n",
       "1  10.178926   9.208633  2.697842        556.0  503.0                    7.0   \n",
       "2  11.431412  11.386139  1.782178        505.0  503.0                    6.0   \n",
       "3   5.000000   5.000000  0.000000          6.0    6.0                    NaN   \n",
       "4  10.880914  10.706260  0.963082        623.0  613.0                    5.0   \n",
       "\n",
       "   relevance_score_status  \n",
       "0                      OK  \n",
       "1                      OK  \n",
       "2                      OK  \n",
       "3  NOT_ENOUGH_IMPRESSIONS  \n",
       "4                      OK  "
      ]
     },
     "execution_count": 30,
     "metadata": {},
     "output_type": "execute_result"
    }
   ],
   "source": [
    "actions_df.head()"
   ]
  },
  {
   "cell_type": "code",
   "execution_count": 31,
   "metadata": {},
   "outputs": [
    {
     "data": {
      "text/plain": [
       "(28, 11)"
      ]
     },
     "execution_count": 31,
     "metadata": {},
     "output_type": "execute_result"
    }
   ],
   "source": [
    "actions_df.shape"
   ]
  },
  {
   "cell_type": "code",
   "execution_count": 32,
   "metadata": {},
   "outputs": [
    {
     "data": {
      "text/plain": [
       "8"
      ]
     },
     "execution_count": 32,
     "metadata": {},
     "output_type": "execute_result"
    }
   ],
   "source": [
    "actions_df['ad_id'].value_counts().count()"
   ]
  },
  {
   "cell_type": "markdown",
   "metadata": {},
   "source": [
    "### actions stats (mean, std, count)"
   ]
  },
  {
   "cell_type": "code",
   "execution_count": 33,
   "metadata": {},
   "outputs": [],
   "source": [
    "actions_df['cpa'] = actions_df[['cost_per_10_sec_video_view_value', 'cpc', 'cpp', 'cpm']].mean(axis=1)"
   ]
  },
  {
   "cell_type": "code",
   "execution_count": 34,
   "metadata": {},
   "outputs": [
    {
     "data": {
      "text/plain": [
       "(28, 12)"
      ]
     },
     "execution_count": 34,
     "metadata": {},
     "output_type": "execute_result"
    }
   ],
   "source": [
    "actions_df.head(10)\n",
    "actions_df.shape"
   ]
  },
  {
   "cell_type": "markdown",
   "metadata": {},
   "source": [
    "### Merge all attributes with actions"
   ]
  },
  {
   "cell_type": "code",
   "execution_count": 35,
   "metadata": {},
   "outputs": [
    {
     "name": "stdout",
     "output_type": "stream",
     "text": [
      "SELECT ia.*, ta.*, body, image_url, ads.id as ad_id\n",
      "                FROM   dbo.image_attributes as ia,\n",
      "                       dbo.text_attributes as ta,\n",
      "                       dbo.ads as ads\n",
      "                WHERE  ta.creative_id = ia.creative_id\n",
      "                   AND ads.creative_id = ta.creative_id\n",
      "                   AND ads.creative_id = ia.creative_id\n"
     ]
    }
   ],
   "source": [
    "attr_query = \"\"\"SELECT ia.*, ta.*, body, image_url, ads.id as ad_id\n",
    "                FROM   dbo.image_attributes as ia,\n",
    "                       dbo.text_attributes as ta,\n",
    "                       dbo.ads as ads\n",
    "                WHERE  ta.creative_id = ia.creative_id\n",
    "                   AND ads.creative_id = ta.creative_id\n",
    "                   AND ads.creative_id = ia.creative_id\"\"\"\n",
    "debug(attr_query)\n",
    "attr_df = sql_to_df(attr_query)"
   ]
  },
  {
   "cell_type": "code",
   "execution_count": 36,
   "metadata": {},
   "outputs": [
    {
     "data": {
      "text/plain": [
       "248"
      ]
     },
     "execution_count": 36,
     "metadata": {},
     "output_type": "execute_result"
    }
   ],
   "source": [
    "attr_df['ad_id'].value_counts().count()"
   ]
  },
  {
   "cell_type": "code",
   "execution_count": 37,
   "metadata": {},
   "outputs": [],
   "source": [
    "actions_attr_df = pd.merge(actions_df, attr_df, on='ad_id')"
   ]
  },
  {
   "cell_type": "code",
   "execution_count": 38,
   "metadata": {},
   "outputs": [],
   "source": [
    "actions_attr_df.drop_duplicates(subset=['ad_id'], keep='last', inplace=True)"
   ]
  },
  {
   "cell_type": "code",
   "execution_count": 39,
   "metadata": {},
   "outputs": [
    {
     "data": {
      "text/plain": [
       "(5, 57)"
      ]
     },
     "execution_count": 39,
     "metadata": {},
     "output_type": "execute_result"
    }
   ],
   "source": [
    "actions_attr_df.shape"
   ]
  },
  {
   "cell_type": "code",
   "execution_count": 40,
   "metadata": {},
   "outputs": [
    {
     "data": {
      "text/plain": [
       "Index(['ad_id', 'clicks', 'cost_per_10_sec_video_view_value', 'cpc', 'cpp',\n",
       "       'cpm', 'ctr', 'impressions', 'reach', 'relevance_score_score',\n",
       "       'relevance_score_status', 'cpa', 'id', 'creative_id', 'account_id',\n",
       "       'image_url', 'image_hash', 'accent_color', 'dominant_color_background',\n",
       "       'dominant_color_foreground', 'dominant_color_1', 'is_bw_img', 'tags_1',\n",
       "       'caption', 'confidence', 'height', 'width', 'id', 'creative_id',\n",
       "       'account_id', 'body', 'sentiment', 'key_phrases_1', 'key_phrases_2',\n",
       "       'key_phrases_3', 'key_phrases_4', 'key_phrases_5', 'tone_1', 'tone_2',\n",
       "       'tone_3', 'tone_4', 'text_sample_1', 'text_sample_2', 'text_sample_3',\n",
       "       'text_sample_4', 'score_1', 'score_2', 'score_3', 'score_4', 'tone_5',\n",
       "       'text_sample_5', 'score_5', 'tone_6', 'score_6', 'text_sample_6',\n",
       "       'body', 'image_url'],\n",
       "      dtype='object')"
      ]
     },
     "execution_count": 40,
     "metadata": {},
     "output_type": "execute_result"
    }
   ],
   "source": [
    "actions_attr_df.columns"
   ]
  },
  {
   "cell_type": "code",
   "execution_count": 41,
   "metadata": {},
   "outputs": [],
   "source": [
    "actions_attr_df.sort_values(by='cpa', inplace=True)"
   ]
  },
  {
   "cell_type": "code",
   "execution_count": 42,
   "metadata": {},
   "outputs": [
    {
     "data": {
      "text/html": [
       "<div>\n",
       "<style scoped>\n",
       "    .dataframe tbody tr th:only-of-type {\n",
       "        vertical-align: middle;\n",
       "    }\n",
       "\n",
       "    .dataframe tbody tr th {\n",
       "        vertical-align: top;\n",
       "    }\n",
       "\n",
       "    .dataframe thead th {\n",
       "        text-align: right;\n",
       "    }\n",
       "</style>\n",
       "<table border=\"1\" class=\"dataframe\">\n",
       "  <thead>\n",
       "    <tr style=\"text-align: right;\">\n",
       "      <th></th>\n",
       "      <th>ad_id</th>\n",
       "      <th>clicks</th>\n",
       "      <th>cost_per_10_sec_video_view_value</th>\n",
       "      <th>cpc</th>\n",
       "      <th>cpp</th>\n",
       "      <th>cpm</th>\n",
       "      <th>ctr</th>\n",
       "      <th>impressions</th>\n",
       "      <th>reach</th>\n",
       "      <th>relevance_score_score</th>\n",
       "      <th>...</th>\n",
       "      <th>score_3</th>\n",
       "      <th>score_4</th>\n",
       "      <th>tone_5</th>\n",
       "      <th>text_sample_5</th>\n",
       "      <th>score_5</th>\n",
       "      <th>tone_6</th>\n",
       "      <th>score_6</th>\n",
       "      <th>text_sample_6</th>\n",
       "      <th>body</th>\n",
       "      <th>image_url</th>\n",
       "    </tr>\n",
       "  </thead>\n",
       "  <tbody>\n",
       "    <tr>\n",
       "      <th>19</th>\n",
       "      <td>6097806702196</td>\n",
       "      <td>22.0</td>\n",
       "      <td>NaN</td>\n",
       "      <td>0.295000</td>\n",
       "      <td>5.852119</td>\n",
       "      <td>5.846847</td>\n",
       "      <td>1.981982</td>\n",
       "      <td>1110.0</td>\n",
       "      <td>1109.0</td>\n",
       "      <td>9.0</td>\n",
       "      <td>...</td>\n",
       "      <td>0.714515</td>\n",
       "      <td>None</td>\n",
       "      <td>None</td>\n",
       "      <td>None</td>\n",
       "      <td>None</td>\n",
       "      <td>None</td>\n",
       "      <td>None</td>\n",
       "      <td>None</td>\n",
       "      <td>Because #pretty #woman don't just look at them...</td>\n",
       "      <td>https://scontent.xx.fbcdn.net/v/t45.1600-4/282...</td>\n",
       "    </tr>\n",
       "    <tr>\n",
       "      <th>5</th>\n",
       "      <td>6102421399996</td>\n",
       "      <td>12.0</td>\n",
       "      <td>0.116500</td>\n",
       "      <td>0.582500</td>\n",
       "      <td>8.737500</td>\n",
       "      <td>8.672457</td>\n",
       "      <td>1.488834</td>\n",
       "      <td>806.0</td>\n",
       "      <td>800.0</td>\n",
       "      <td>5.0</td>\n",
       "      <td>...</td>\n",
       "      <td>NaN</td>\n",
       "      <td>None</td>\n",
       "      <td>None</td>\n",
       "      <td>None</td>\n",
       "      <td>None</td>\n",
       "      <td>None</td>\n",
       "      <td>None</td>\n",
       "      <td>None</td>\n",
       "      <td>The guys from @anchorthemammoth doing an immer...</td>\n",
       "      <td>https://scontent.xx.fbcdn.net/v/t45.1600-4/315...</td>\n",
       "    </tr>\n",
       "    <tr>\n",
       "      <th>33</th>\n",
       "      <td>6100200576396</td>\n",
       "      <td>13.0</td>\n",
       "      <td>0.173818</td>\n",
       "      <td>0.735385</td>\n",
       "      <td>8.851852</td>\n",
       "      <td>8.754579</td>\n",
       "      <td>1.190476</td>\n",
       "      <td>1092.0</td>\n",
       "      <td>1080.0</td>\n",
       "      <td>7.0</td>\n",
       "      <td>...</td>\n",
       "      <td>NaN</td>\n",
       "      <td>None</td>\n",
       "      <td>None</td>\n",
       "      <td>None</td>\n",
       "      <td>None</td>\n",
       "      <td>None</td>\n",
       "      <td>None</td>\n",
       "      <td>None</td>\n",
       "      <td>We got immersive last night at a rehearsal ses...</td>\n",
       "      <td>https://scontent.xx.fbcdn.net/v/t45.1600-4/299...</td>\n",
       "    </tr>\n",
       "    <tr>\n",
       "      <th>25</th>\n",
       "      <td>6099181855396</td>\n",
       "      <td>3.0</td>\n",
       "      <td>NaN</td>\n",
       "      <td>1.143333</td>\n",
       "      <td>10.393939</td>\n",
       "      <td>10.117994</td>\n",
       "      <td>0.884956</td>\n",
       "      <td>339.0</td>\n",
       "      <td>330.0</td>\n",
       "      <td>NaN</td>\n",
       "      <td>...</td>\n",
       "      <td>NaN</td>\n",
       "      <td>None</td>\n",
       "      <td>None</td>\n",
       "      <td>None</td>\n",
       "      <td>None</td>\n",
       "      <td>None</td>\n",
       "      <td>None</td>\n",
       "      <td>None</td>\n",
       "      <td>Pssst ... did you hear? We are taking a small ...</td>\n",
       "      <td>https://scontent.xx.fbcdn.net/v/t45.1600-4/295...</td>\n",
       "    </tr>\n",
       "    <tr>\n",
       "      <th>15</th>\n",
       "      <td>6102962578196</td>\n",
       "      <td>4.0</td>\n",
       "      <td>NaN</td>\n",
       "      <td>1.150000</td>\n",
       "      <td>12.041885</td>\n",
       "      <td>12.010444</td>\n",
       "      <td>1.044386</td>\n",
       "      <td>383.0</td>\n",
       "      <td>382.0</td>\n",
       "      <td>NaN</td>\n",
       "      <td>...</td>\n",
       "      <td>NaN</td>\n",
       "      <td>None</td>\n",
       "      <td>None</td>\n",
       "      <td>None</td>\n",
       "      <td>None</td>\n",
       "      <td>None</td>\n",
       "      <td>None</td>\n",
       "      <td>None</td>\n",
       "      <td>We went on an intergalactic ride with @indigoy...</td>\n",
       "      <td>https://scontent.xx.fbcdn.net/v/t45.1600-4/320...</td>\n",
       "    </tr>\n",
       "  </tbody>\n",
       "</table>\n",
       "<p>5 rows × 57 columns</p>\n",
       "</div>"
      ],
      "text/plain": [
       "            ad_id  clicks  cost_per_10_sec_video_view_value       cpc  \\\n",
       "19  6097806702196    22.0                               NaN  0.295000   \n",
       "5   6102421399996    12.0                          0.116500  0.582500   \n",
       "33  6100200576396    13.0                          0.173818  0.735385   \n",
       "25  6099181855396     3.0                               NaN  1.143333   \n",
       "15  6102962578196     4.0                               NaN  1.150000   \n",
       "\n",
       "          cpp        cpm       ctr  impressions   reach  \\\n",
       "19   5.852119   5.846847  1.981982       1110.0  1109.0   \n",
       "5    8.737500   8.672457  1.488834        806.0   800.0   \n",
       "33   8.851852   8.754579  1.190476       1092.0  1080.0   \n",
       "25  10.393939  10.117994  0.884956        339.0   330.0   \n",
       "15  12.041885  12.010444  1.044386        383.0   382.0   \n",
       "\n",
       "    relevance_score_score                        ...                          \\\n",
       "19                    9.0                        ...                           \n",
       "5                     5.0                        ...                           \n",
       "33                    7.0                        ...                           \n",
       "25                    NaN                        ...                           \n",
       "15                    NaN                        ...                           \n",
       "\n",
       "     score_3  score_4 tone_5 text_sample_5 score_5 tone_6 score_6  \\\n",
       "19  0.714515     None   None          None    None   None    None   \n",
       "5        NaN     None   None          None    None   None    None   \n",
       "33       NaN     None   None          None    None   None    None   \n",
       "25       NaN     None   None          None    None   None    None   \n",
       "15       NaN     None   None          None    None   None    None   \n",
       "\n",
       "   text_sample_6                                               body  \\\n",
       "19          None  Because #pretty #woman don't just look at them...   \n",
       "5           None  The guys from @anchorthemammoth doing an immer...   \n",
       "33          None  We got immersive last night at a rehearsal ses...   \n",
       "25          None  Pssst ... did you hear? We are taking a small ...   \n",
       "15          None  We went on an intergalactic ride with @indigoy...   \n",
       "\n",
       "                                            image_url  \n",
       "19  https://scontent.xx.fbcdn.net/v/t45.1600-4/282...  \n",
       "5   https://scontent.xx.fbcdn.net/v/t45.1600-4/315...  \n",
       "33  https://scontent.xx.fbcdn.net/v/t45.1600-4/299...  \n",
       "25  https://scontent.xx.fbcdn.net/v/t45.1600-4/295...  \n",
       "15  https://scontent.xx.fbcdn.net/v/t45.1600-4/320...  \n",
       "\n",
       "[5 rows x 57 columns]"
      ]
     },
     "execution_count": 42,
     "metadata": {},
     "output_type": "execute_result"
    }
   ],
   "source": [
    "actions_attr_df['confidence'].fillna(actions_attr_df.confidence.mean(), inplace=True)\n",
    "actions_attr_df.head()"
   ]
  },
  {
   "cell_type": "markdown",
   "metadata": {},
   "source": [
    "\n",
    "-----------------------------------------------\n",
    "-----------------------------------------------\n",
    "-----------------------------------------------\n",
    "### I call this part...fun with colors\n",
    "We need to add color names to dataframe in addition to the hex values\n",
    "\n",
    "-----------------------------------------------\n",
    "-----------------------------------------------\n",
    "-----------------------------------------------"
   ]
  },
  {
   "cell_type": "markdown",
   "metadata": {},
   "source": [
    "### define color attributes"
   ]
  },
  {
   "cell_type": "code",
   "execution_count": 43,
   "metadata": {},
   "outputs": [
    {
     "data": {
      "text/plain": [
       "(60.0, 100.0, 1.0)"
      ]
     },
     "execution_count": 43,
     "metadata": {},
     "output_type": "execute_result"
    }
   ],
   "source": [
    "def hex_to_hsv(h):\n",
    "    r, g, b = (tuple(int(h[i:i+2], 16) for i in (0, 2 ,4)))\n",
    "    h, s, v = colors.rgb_to_hsv(r, g, b)\n",
    "    \n",
    "    return h*360, s*100, v/255\n",
    "\n",
    "\n",
    "hex_to_hsv(\"FFFF00\")"
   ]
  },
  {
   "cell_type": "code",
   "execution_count": 44,
   "metadata": {},
   "outputs": [],
   "source": [
    "def color_name(h):\n",
    "    \n",
    "    h, s, v = hex_to_hsv(h)\n",
    "    \n",
    "    if h < 60:\n",
    "        h = 'red'\n",
    "    elif h >= 60 and h < 120:\n",
    "        h = 'yellow'\n",
    "    elif h >= 120 and h < 180:\n",
    "        h = 'green'\n",
    "    elif h >= 180 and h < 240:\n",
    "        h = 'cyan'\n",
    "    elif h >= 240 and h < 300:\n",
    "        h = 'blue'\n",
    "    elif h >= 300 and h <= 360:\n",
    "        h = 'magenta'\n",
    "        \n",
    "    return h"
   ]
  },
  {
   "cell_type": "code",
   "execution_count": 45,
   "metadata": {},
   "outputs": [],
   "source": [
    "def color_saturation(h): \n",
    "    h, s, v = hex_to_hsv(h)\n",
    "    \n",
    "    if s < 25:\n",
    "        s = 'dim saturation'\n",
    "    elif s >= 25 and s < 50:\n",
    "        s = 'low saturation'\n",
    "    elif s >= 50 and s < 75:\n",
    "        s = 'moderate saturation'\n",
    "    elif s >= 75 and s <= 100:\n",
    "        s = 'high saturation'\n",
    "        \n",
    "    return s"
   ]
  },
  {
   "cell_type": "code",
   "execution_count": 46,
   "metadata": {},
   "outputs": [],
   "source": [
    "def color_brightness(h):\n",
    "    h, s, v = hex_to_hsv(h)\n",
    "    \n",
    "    if v < 25:\n",
    "        v = 'dim brightness'\n",
    "    elif v >= 25 and v < 50:\n",
    "        v = 'low brightness'\n",
    "    elif v >= 50 and v < 75:\n",
    "        v = 'moderate brightness'\n",
    "    elif v >= 75 and v <= 100:\n",
    "        v = 'high brightness'\n",
    "    \n",
    "    return v"
   ]
  },
  {
   "cell_type": "code",
   "execution_count": 47,
   "metadata": {},
   "outputs": [
    {
     "data": {
      "text/plain": [
       "<bound method Series.isnull of 19    31769A\n",
       "5     1BAFB0\n",
       "33    4B0EBD\n",
       "25      None\n",
       "15    A02B75\n",
       "Name: accent_color, dtype: object>"
      ]
     },
     "execution_count": 47,
     "metadata": {},
     "output_type": "execute_result"
    }
   ],
   "source": [
    "actions_attr_df['accent_color'].isnull"
   ]
  },
  {
   "cell_type": "code",
   "execution_count": 48,
   "metadata": {},
   "outputs": [
    {
     "data": {
      "text/plain": [
       "'1BAFB0'"
      ]
     },
     "execution_count": 48,
     "metadata": {},
     "output_type": "execute_result"
    }
   ],
   "source": [
    "actions_attr_df['accent_color'].mode()[0]"
   ]
  },
  {
   "cell_type": "markdown",
   "metadata": {},
   "source": [
    "### Break out accent colors"
   ]
  },
  {
   "cell_type": "code",
   "execution_count": 49,
   "metadata": {},
   "outputs": [],
   "source": [
    "actions_attr_df['accent_color'] = actions_attr_df['accent_color'].fillna(actions_attr_df['accent_color'].mode()[0])"
   ]
  },
  {
   "cell_type": "code",
   "execution_count": 50,
   "metadata": {},
   "outputs": [
    {
     "data": {
      "text/html": [
       "<div>\n",
       "<style scoped>\n",
       "    .dataframe tbody tr th:only-of-type {\n",
       "        vertical-align: middle;\n",
       "    }\n",
       "\n",
       "    .dataframe tbody tr th {\n",
       "        vertical-align: top;\n",
       "    }\n",
       "\n",
       "    .dataframe thead th {\n",
       "        text-align: right;\n",
       "    }\n",
       "</style>\n",
       "<table border=\"1\" class=\"dataframe\">\n",
       "  <thead>\n",
       "    <tr style=\"text-align: right;\">\n",
       "      <th></th>\n",
       "      <th>ad_id</th>\n",
       "      <th>clicks</th>\n",
       "      <th>cost_per_10_sec_video_view_value</th>\n",
       "      <th>cpc</th>\n",
       "      <th>cpp</th>\n",
       "      <th>cpm</th>\n",
       "      <th>ctr</th>\n",
       "      <th>impressions</th>\n",
       "      <th>reach</th>\n",
       "      <th>relevance_score_score</th>\n",
       "      <th>...</th>\n",
       "      <th>score_3</th>\n",
       "      <th>score_4</th>\n",
       "      <th>tone_5</th>\n",
       "      <th>text_sample_5</th>\n",
       "      <th>score_5</th>\n",
       "      <th>tone_6</th>\n",
       "      <th>score_6</th>\n",
       "      <th>text_sample_6</th>\n",
       "      <th>body</th>\n",
       "      <th>image_url</th>\n",
       "    </tr>\n",
       "  </thead>\n",
       "  <tbody>\n",
       "    <tr>\n",
       "      <th>19</th>\n",
       "      <td>6097806702196</td>\n",
       "      <td>22.0</td>\n",
       "      <td>NaN</td>\n",
       "      <td>0.295000</td>\n",
       "      <td>5.852119</td>\n",
       "      <td>5.846847</td>\n",
       "      <td>1.981982</td>\n",
       "      <td>1110.0</td>\n",
       "      <td>1109.0</td>\n",
       "      <td>9.0</td>\n",
       "      <td>...</td>\n",
       "      <td>0.714515</td>\n",
       "      <td>None</td>\n",
       "      <td>None</td>\n",
       "      <td>None</td>\n",
       "      <td>None</td>\n",
       "      <td>None</td>\n",
       "      <td>None</td>\n",
       "      <td>None</td>\n",
       "      <td>Because #pretty #woman don't just look at them...</td>\n",
       "      <td>https://scontent.xx.fbcdn.net/v/t45.1600-4/282...</td>\n",
       "    </tr>\n",
       "    <tr>\n",
       "      <th>5</th>\n",
       "      <td>6102421399996</td>\n",
       "      <td>12.0</td>\n",
       "      <td>0.116500</td>\n",
       "      <td>0.582500</td>\n",
       "      <td>8.737500</td>\n",
       "      <td>8.672457</td>\n",
       "      <td>1.488834</td>\n",
       "      <td>806.0</td>\n",
       "      <td>800.0</td>\n",
       "      <td>5.0</td>\n",
       "      <td>...</td>\n",
       "      <td>NaN</td>\n",
       "      <td>None</td>\n",
       "      <td>None</td>\n",
       "      <td>None</td>\n",
       "      <td>None</td>\n",
       "      <td>None</td>\n",
       "      <td>None</td>\n",
       "      <td>None</td>\n",
       "      <td>The guys from @anchorthemammoth doing an immer...</td>\n",
       "      <td>https://scontent.xx.fbcdn.net/v/t45.1600-4/315...</td>\n",
       "    </tr>\n",
       "    <tr>\n",
       "      <th>33</th>\n",
       "      <td>6100200576396</td>\n",
       "      <td>13.0</td>\n",
       "      <td>0.173818</td>\n",
       "      <td>0.735385</td>\n",
       "      <td>8.851852</td>\n",
       "      <td>8.754579</td>\n",
       "      <td>1.190476</td>\n",
       "      <td>1092.0</td>\n",
       "      <td>1080.0</td>\n",
       "      <td>7.0</td>\n",
       "      <td>...</td>\n",
       "      <td>NaN</td>\n",
       "      <td>None</td>\n",
       "      <td>None</td>\n",
       "      <td>None</td>\n",
       "      <td>None</td>\n",
       "      <td>None</td>\n",
       "      <td>None</td>\n",
       "      <td>None</td>\n",
       "      <td>We got immersive last night at a rehearsal ses...</td>\n",
       "      <td>https://scontent.xx.fbcdn.net/v/t45.1600-4/299...</td>\n",
       "    </tr>\n",
       "    <tr>\n",
       "      <th>25</th>\n",
       "      <td>6099181855396</td>\n",
       "      <td>3.0</td>\n",
       "      <td>NaN</td>\n",
       "      <td>1.143333</td>\n",
       "      <td>10.393939</td>\n",
       "      <td>10.117994</td>\n",
       "      <td>0.884956</td>\n",
       "      <td>339.0</td>\n",
       "      <td>330.0</td>\n",
       "      <td>NaN</td>\n",
       "      <td>...</td>\n",
       "      <td>NaN</td>\n",
       "      <td>None</td>\n",
       "      <td>None</td>\n",
       "      <td>None</td>\n",
       "      <td>None</td>\n",
       "      <td>None</td>\n",
       "      <td>None</td>\n",
       "      <td>None</td>\n",
       "      <td>Pssst ... did you hear? We are taking a small ...</td>\n",
       "      <td>https://scontent.xx.fbcdn.net/v/t45.1600-4/295...</td>\n",
       "    </tr>\n",
       "    <tr>\n",
       "      <th>15</th>\n",
       "      <td>6102962578196</td>\n",
       "      <td>4.0</td>\n",
       "      <td>NaN</td>\n",
       "      <td>1.150000</td>\n",
       "      <td>12.041885</td>\n",
       "      <td>12.010444</td>\n",
       "      <td>1.044386</td>\n",
       "      <td>383.0</td>\n",
       "      <td>382.0</td>\n",
       "      <td>NaN</td>\n",
       "      <td>...</td>\n",
       "      <td>NaN</td>\n",
       "      <td>None</td>\n",
       "      <td>None</td>\n",
       "      <td>None</td>\n",
       "      <td>None</td>\n",
       "      <td>None</td>\n",
       "      <td>None</td>\n",
       "      <td>None</td>\n",
       "      <td>We went on an intergalactic ride with @indigoy...</td>\n",
       "      <td>https://scontent.xx.fbcdn.net/v/t45.1600-4/320...</td>\n",
       "    </tr>\n",
       "  </tbody>\n",
       "</table>\n",
       "<p>5 rows × 57 columns</p>\n",
       "</div>"
      ],
      "text/plain": [
       "            ad_id  clicks  cost_per_10_sec_video_view_value       cpc  \\\n",
       "19  6097806702196    22.0                               NaN  0.295000   \n",
       "5   6102421399996    12.0                          0.116500  0.582500   \n",
       "33  6100200576396    13.0                          0.173818  0.735385   \n",
       "25  6099181855396     3.0                               NaN  1.143333   \n",
       "15  6102962578196     4.0                               NaN  1.150000   \n",
       "\n",
       "          cpp        cpm       ctr  impressions   reach  \\\n",
       "19   5.852119   5.846847  1.981982       1110.0  1109.0   \n",
       "5    8.737500   8.672457  1.488834        806.0   800.0   \n",
       "33   8.851852   8.754579  1.190476       1092.0  1080.0   \n",
       "25  10.393939  10.117994  0.884956        339.0   330.0   \n",
       "15  12.041885  12.010444  1.044386        383.0   382.0   \n",
       "\n",
       "    relevance_score_score                        ...                          \\\n",
       "19                    9.0                        ...                           \n",
       "5                     5.0                        ...                           \n",
       "33                    7.0                        ...                           \n",
       "25                    NaN                        ...                           \n",
       "15                    NaN                        ...                           \n",
       "\n",
       "     score_3  score_4 tone_5 text_sample_5 score_5 tone_6 score_6  \\\n",
       "19  0.714515     None   None          None    None   None    None   \n",
       "5        NaN     None   None          None    None   None    None   \n",
       "33       NaN     None   None          None    None   None    None   \n",
       "25       NaN     None   None          None    None   None    None   \n",
       "15       NaN     None   None          None    None   None    None   \n",
       "\n",
       "   text_sample_6                                               body  \\\n",
       "19          None  Because #pretty #woman don't just look at them...   \n",
       "5           None  The guys from @anchorthemammoth doing an immer...   \n",
       "33          None  We got immersive last night at a rehearsal ses...   \n",
       "25          None  Pssst ... did you hear? We are taking a small ...   \n",
       "15          None  We went on an intergalactic ride with @indigoy...   \n",
       "\n",
       "                                            image_url  \n",
       "19  https://scontent.xx.fbcdn.net/v/t45.1600-4/282...  \n",
       "5   https://scontent.xx.fbcdn.net/v/t45.1600-4/315...  \n",
       "33  https://scontent.xx.fbcdn.net/v/t45.1600-4/299...  \n",
       "25  https://scontent.xx.fbcdn.net/v/t45.1600-4/295...  \n",
       "15  https://scontent.xx.fbcdn.net/v/t45.1600-4/320...  \n",
       "\n",
       "[5 rows x 57 columns]"
      ]
     },
     "execution_count": 50,
     "metadata": {},
     "output_type": "execute_result"
    }
   ],
   "source": [
    "actions_attr_df.head()"
   ]
  },
  {
   "cell_type": "code",
   "execution_count": 51,
   "metadata": {},
   "outputs": [],
   "source": [
    "actions_attr_df['accent_color_name'] = actions_attr_df['accent_color'].apply(color_name)"
   ]
  },
  {
   "cell_type": "code",
   "execution_count": 52,
   "metadata": {},
   "outputs": [],
   "source": [
    "actions_attr_df['color_saturation'] = actions_attr_df['accent_color'].apply(color_saturation)\n",
    "actions_attr_df['color_brightness'] = actions_attr_df['accent_color'].apply(color_brightness)"
   ]
  },
  {
   "cell_type": "code",
   "execution_count": 53,
   "metadata": {},
   "outputs": [
    {
     "data": {
      "text/plain": [
       "Index(['ad_id', 'clicks', 'cost_per_10_sec_video_view_value', 'cpc', 'cpp',\n",
       "       'cpm', 'ctr', 'impressions', 'reach', 'relevance_score_score',\n",
       "       'relevance_score_status', 'cpa', 'id', 'creative_id', 'account_id',\n",
       "       'image_url', 'image_hash', 'accent_color', 'dominant_color_background',\n",
       "       'dominant_color_foreground', 'dominant_color_1', 'is_bw_img', 'tags_1',\n",
       "       'caption', 'confidence', 'height', 'width', 'id', 'creative_id',\n",
       "       'account_id', 'body', 'sentiment', 'key_phrases_1', 'key_phrases_2',\n",
       "       'key_phrases_3', 'key_phrases_4', 'key_phrases_5', 'tone_1', 'tone_2',\n",
       "       'tone_3', 'tone_4', 'text_sample_1', 'text_sample_2', 'text_sample_3',\n",
       "       'text_sample_4', 'score_1', 'score_2', 'score_3', 'score_4', 'tone_5',\n",
       "       'text_sample_5', 'score_5', 'tone_6', 'score_6', 'text_sample_6',\n",
       "       'body', 'image_url', 'accent_color_name', 'color_saturation',\n",
       "       'color_brightness'],\n",
       "      dtype='object')"
      ]
     },
     "execution_count": 53,
     "metadata": {},
     "output_type": "execute_result"
    }
   ],
   "source": [
    "actions_attr_df.columns"
   ]
  },
  {
   "cell_type": "markdown",
   "metadata": {},
   "source": [
    "---------------------------------------\n",
    "---------------------------------------\n",
    "---------------------------------------\n",
    "---------------------------------------\n",
    "---------------------------------------\n",
    "# Make first tests\n",
    "---------------------------------------\n",
    "---------------------------------------\n",
    "---------------------------------------\n",
    "---------------------------------------"
   ]
  },
  {
   "cell_type": "code",
   "execution_count": 79,
   "metadata": {},
   "outputs": [],
   "source": [
    "def back_analysis(df):\n",
    "    df.sort_values(by='cpa', inplace=True)\n",
    "    df = df[df['relevance_score_status'] == 'OK']\n",
    "    df = df[0:4]\n",
    "\n",
    "    new_df = df[['sentiment', 'key_phrases_1', 'tone_1', 'tone_2', 'accent_color_name', 'color_saturation', 'color_brightness', 'dominant_color_background', 'body', 'image_url']].copy()\n",
    "    \n",
    "    return new_df"
   ]
  },
  {
   "cell_type": "markdown",
   "metadata": {},
   "source": [
    "Index(['dominant_color_background', 'dominant_color_foreground', 'dominant_color_1', 'is_bw_img', 'tags_1', 'caption', 'confidence', 'height', 'width', 'id', 'creative_id', 'sentiment', 'key_phrases_1', 'key_phrases_2', 'key_phrases_3', 'key_phrases_4', 'key_phrases_5', 'tone_1', 'tone_2', 'tone_3', 'tone_4', 'text_sample_1', 'text_sample_2', 'text_sample_3', 'text_sample_4', 'score_1', 'score_2', 'score_3', 'score_4', 'tone_5', 'text_sample_5', 'score_5', 'tone_6', 'score_6', 'text_sample_6', 'accent_color_name', 'color_saturation', 'color_brightness'],\n",
    "      dtype='object')"
   ]
  },
  {
   "cell_type": "code",
   "execution_count": 80,
   "metadata": {},
   "outputs": [],
   "source": [
    "color_var_list = ['accent_color_name', 'color_saturation', 'color_brightness', 'dominant_color_background', 'dominant_color_foreground', 'dominant_color_1']\n",
    "text_var_list = ['sentiment', 'tone_1']"
   ]
  },
  {
   "cell_type": "code",
   "execution_count": 81,
   "metadata": {},
   "outputs": [
    {
     "data": {
      "text/html": [
       "<div>\n",
       "<style scoped>\n",
       "    .dataframe tbody tr th:only-of-type {\n",
       "        vertical-align: middle;\n",
       "    }\n",
       "\n",
       "    .dataframe tbody tr th {\n",
       "        vertical-align: top;\n",
       "    }\n",
       "\n",
       "    .dataframe thead th {\n",
       "        text-align: right;\n",
       "    }\n",
       "</style>\n",
       "<table border=\"1\" class=\"dataframe\">\n",
       "  <thead>\n",
       "    <tr style=\"text-align: right;\">\n",
       "      <th></th>\n",
       "      <th>accent_color_name</th>\n",
       "      <th>color_saturation</th>\n",
       "      <th>color_brightness</th>\n",
       "      <th>dominant_color_background</th>\n",
       "      <th>dominant_color_foreground</th>\n",
       "      <th>dominant_color_1</th>\n",
       "    </tr>\n",
       "    <tr>\n",
       "      <th>cpa</th>\n",
       "      <th></th>\n",
       "      <th></th>\n",
       "      <th></th>\n",
       "      <th></th>\n",
       "      <th></th>\n",
       "      <th></th>\n",
       "    </tr>\n",
       "  </thead>\n",
       "  <tbody>\n",
       "    <tr>\n",
       "      <th>3.997989</th>\n",
       "      <td>cyan</td>\n",
       "      <td>moderate saturation</td>\n",
       "      <td>dim brightness</td>\n",
       "      <td>White</td>\n",
       "      <td>Black</td>\n",
       "      <td>White</td>\n",
       "    </tr>\n",
       "    <tr>\n",
       "      <th>4.527239</th>\n",
       "      <td>cyan</td>\n",
       "      <td>high saturation</td>\n",
       "      <td>dim brightness</td>\n",
       "      <td>Teal</td>\n",
       "      <td>Teal</td>\n",
       "      <td>Teal</td>\n",
       "    </tr>\n",
       "    <tr>\n",
       "      <th>4.628908</th>\n",
       "      <td>blue</td>\n",
       "      <td>high saturation</td>\n",
       "      <td>dim brightness</td>\n",
       "      <td>Black</td>\n",
       "      <td>Black</td>\n",
       "      <td>Black</td>\n",
       "    </tr>\n",
       "    <tr>\n",
       "      <th>8.400776</th>\n",
       "      <td>magenta</td>\n",
       "      <td>moderate saturation</td>\n",
       "      <td>dim brightness</td>\n",
       "      <td>Black</td>\n",
       "      <td>Black</td>\n",
       "      <td>Black</td>\n",
       "    </tr>\n",
       "  </tbody>\n",
       "</table>\n",
       "</div>"
      ],
      "text/plain": [
       "         accent_color_name     color_saturation color_brightness  \\\n",
       "cpa                                                                \n",
       "3.997989              cyan  moderate saturation   dim brightness   \n",
       "4.527239              cyan      high saturation   dim brightness   \n",
       "4.628908              blue      high saturation   dim brightness   \n",
       "8.400776           magenta  moderate saturation   dim brightness   \n",
       "\n",
       "         dominant_color_background dominant_color_foreground dominant_color_1  \n",
       "cpa                                                                            \n",
       "3.997989                     White                     Black            White  \n",
       "4.527239                      Teal                      Teal             Teal  \n",
       "4.628908                     Black                     Black            Black  \n",
       "8.400776                     Black                     Black            Black  "
      ]
     },
     "execution_count": 81,
     "metadata": {},
     "output_type": "execute_result"
    }
   ],
   "source": [
    "# var_list = ['dominant_color_background', 'dominant_color_foreground', 'dominant_color_1', 'is_bw_img', 'tags_1', 'caption', 'confidence', 'height', 'width', 'sentiment', 'key_phrases_1', 'key_phrases_2', 'key_phrases_3', 'key_phrases_4', 'key_phrases_5', 'tone_1', 'tone_2', 'tone_3', 'tone_4', 'text_sample_1', 'text_sample_2', 'text_sample_3', 'text_sample_4', 'score_1', 'score_2', 'score_3', 'score_4', 'tone_5', 'text_sample_5', 'score_5', 'tone_6', 'score_6', 'text_sample_6', 'accent_color_name', 'color_saturation', 'color_brightness']\n",
    "color_variables = pd.DataFrame(actions_attr_df.groupby(color_var_list).cpa.mean())\n",
    "color_variables.reset_index(level=color_var_list, inplace=True)\n",
    "color_variables.set_index('cpa', inplace=True)\n",
    "color_variables.sort_values(by='cpa', inplace=True)\n",
    "color_variables.head()"
   ]
  },
  {
   "cell_type": "code",
   "execution_count": 82,
   "metadata": {},
   "outputs": [
    {
     "data": {
      "text/html": [
       "<div>\n",
       "<style scoped>\n",
       "    .dataframe tbody tr th:only-of-type {\n",
       "        vertical-align: middle;\n",
       "    }\n",
       "\n",
       "    .dataframe tbody tr th {\n",
       "        vertical-align: top;\n",
       "    }\n",
       "\n",
       "    .dataframe thead th {\n",
       "        text-align: right;\n",
       "    }\n",
       "</style>\n",
       "<table border=\"1\" class=\"dataframe\">\n",
       "  <thead>\n",
       "    <tr style=\"text-align: right;\">\n",
       "      <th></th>\n",
       "      <th>sentiment</th>\n",
       "      <th>tone_1</th>\n",
       "    </tr>\n",
       "    <tr>\n",
       "      <th>cpa</th>\n",
       "      <th></th>\n",
       "      <th></th>\n",
       "    </tr>\n",
       "  </thead>\n",
       "  <tbody>\n",
       "    <tr>\n",
       "      <th>3.997989</th>\n",
       "      <td>0.975608</td>\n",
       "      <td>Confident</td>\n",
       "    </tr>\n",
       "    <tr>\n",
       "      <th>4.527239</th>\n",
       "      <td>0.976534</td>\n",
       "      <td>Joy</td>\n",
       "    </tr>\n",
       "    <tr>\n",
       "      <th>4.628908</th>\n",
       "      <td>0.900388</td>\n",
       "      <td>Joy</td>\n",
       "    </tr>\n",
       "    <tr>\n",
       "      <th>7.218422</th>\n",
       "      <td>0.972745</td>\n",
       "      <td>Sadness</td>\n",
       "    </tr>\n",
       "    <tr>\n",
       "      <th>8.400776</th>\n",
       "      <td>0.984225</td>\n",
       "      <td>Joy</td>\n",
       "    </tr>\n",
       "  </tbody>\n",
       "</table>\n",
       "</div>"
      ],
      "text/plain": [
       "          sentiment     tone_1\n",
       "cpa                           \n",
       "3.997989   0.975608  Confident\n",
       "4.527239   0.976534        Joy\n",
       "4.628908   0.900388        Joy\n",
       "7.218422   0.972745    Sadness\n",
       "8.400776   0.984225        Joy"
      ]
     },
     "execution_count": 82,
     "metadata": {},
     "output_type": "execute_result"
    }
   ],
   "source": [
    "text_variables = pd.DataFrame(actions_attr_df.groupby(text_var_list).cpa.mean())\n",
    "text_variables.reset_index(level=text_var_list, inplace=True)\n",
    "text_variables.set_index('cpa', inplace=True)\n",
    "text_variables.sort_values(by='cpa', inplace=True)\n",
    "text_variables.head()"
   ]
  },
  {
   "cell_type": "code",
   "execution_count": 83,
   "metadata": {},
   "outputs": [
    {
     "data": {
      "text/plain": [
       "(4, 8)"
      ]
     },
     "execution_count": 83,
     "metadata": {},
     "output_type": "execute_result"
    }
   ],
   "source": [
    "text_and_color = pd.merge(text_variables, color_variables, on='cpa')\n",
    "text_and_color.shape"
   ]
  },
  {
   "cell_type": "code",
   "execution_count": 105,
   "metadata": {},
   "outputs": [],
   "source": [
    "def get_top_cpas():\n",
    "    b = text_and_color\n",
    "    cpa_trends = b.index.values\n",
    "#     cpas = []\n",
    "#     i = 0\n",
    "#     while i < len(cpa_trends):\n",
    "#         cpas.append(cpa_trends[i])\n",
    "#         i += 1\n",
    "        \n",
    "    return cpa_trends"
   ]
  },
  {
   "cell_type": "code",
   "execution_count": 107,
   "metadata": {},
   "outputs": [
    {
     "ename": "TypeError",
     "evalue": "Object of type 'ndarray' is not JSON serializable",
     "output_type": "error",
     "traceback": [
      "\u001b[0;31m---------------------------------------------------------------------------\u001b[0m",
      "\u001b[0;31mTypeError\u001b[0m                                 Traceback (most recent call last)",
      "\u001b[0;32m<ipython-input-107-da137e916c80>\u001b[0m in \u001b[0;36m<module>\u001b[0;34m()\u001b[0m\n\u001b[1;32m      1\u001b[0m \u001b[0ma\u001b[0m \u001b[0;34m=\u001b[0m \u001b[0mget_top_cpas\u001b[0m\u001b[0;34m(\u001b[0m\u001b[0;34m)\u001b[0m\u001b[0;34m\u001b[0m\u001b[0m\n\u001b[0;32m----> 2\u001b[0;31m \u001b[0mjson\u001b[0m\u001b[0;34m.\u001b[0m\u001b[0mdumps\u001b[0m\u001b[0;34m(\u001b[0m\u001b[0ma\u001b[0m\u001b[0;34m)\u001b[0m\u001b[0;34m\u001b[0m\u001b[0m\n\u001b[0m",
      "\u001b[0;32m/anaconda3/lib/python3.6/json/__init__.py\u001b[0m in \u001b[0;36mdumps\u001b[0;34m(obj, skipkeys, ensure_ascii, check_circular, allow_nan, cls, indent, separators, default, sort_keys, **kw)\u001b[0m\n\u001b[1;32m    229\u001b[0m         \u001b[0mcls\u001b[0m \u001b[0;32mis\u001b[0m \u001b[0;32mNone\u001b[0m \u001b[0;32mand\u001b[0m \u001b[0mindent\u001b[0m \u001b[0;32mis\u001b[0m \u001b[0;32mNone\u001b[0m \u001b[0;32mand\u001b[0m \u001b[0mseparators\u001b[0m \u001b[0;32mis\u001b[0m \u001b[0;32mNone\u001b[0m \u001b[0;32mand\u001b[0m\u001b[0;34m\u001b[0m\u001b[0m\n\u001b[1;32m    230\u001b[0m         default is None and not sort_keys and not kw):\n\u001b[0;32m--> 231\u001b[0;31m         \u001b[0;32mreturn\u001b[0m \u001b[0m_default_encoder\u001b[0m\u001b[0;34m.\u001b[0m\u001b[0mencode\u001b[0m\u001b[0;34m(\u001b[0m\u001b[0mobj\u001b[0m\u001b[0;34m)\u001b[0m\u001b[0;34m\u001b[0m\u001b[0m\n\u001b[0m\u001b[1;32m    232\u001b[0m     \u001b[0;32mif\u001b[0m \u001b[0mcls\u001b[0m \u001b[0;32mis\u001b[0m \u001b[0;32mNone\u001b[0m\u001b[0;34m:\u001b[0m\u001b[0;34m\u001b[0m\u001b[0m\n\u001b[1;32m    233\u001b[0m         \u001b[0mcls\u001b[0m \u001b[0;34m=\u001b[0m \u001b[0mJSONEncoder\u001b[0m\u001b[0;34m\u001b[0m\u001b[0m\n",
      "\u001b[0;32m/anaconda3/lib/python3.6/json/encoder.py\u001b[0m in \u001b[0;36mencode\u001b[0;34m(self, o)\u001b[0m\n\u001b[1;32m    197\u001b[0m         \u001b[0;31m# exceptions aren't as detailed.  The list call should be roughly\u001b[0m\u001b[0;34m\u001b[0m\u001b[0;34m\u001b[0m\u001b[0m\n\u001b[1;32m    198\u001b[0m         \u001b[0;31m# equivalent to the PySequence_Fast that ''.join() would do.\u001b[0m\u001b[0;34m\u001b[0m\u001b[0;34m\u001b[0m\u001b[0m\n\u001b[0;32m--> 199\u001b[0;31m         \u001b[0mchunks\u001b[0m \u001b[0;34m=\u001b[0m \u001b[0mself\u001b[0m\u001b[0;34m.\u001b[0m\u001b[0miterencode\u001b[0m\u001b[0;34m(\u001b[0m\u001b[0mo\u001b[0m\u001b[0;34m,\u001b[0m \u001b[0m_one_shot\u001b[0m\u001b[0;34m=\u001b[0m\u001b[0;32mTrue\u001b[0m\u001b[0;34m)\u001b[0m\u001b[0;34m\u001b[0m\u001b[0m\n\u001b[0m\u001b[1;32m    200\u001b[0m         \u001b[0;32mif\u001b[0m \u001b[0;32mnot\u001b[0m \u001b[0misinstance\u001b[0m\u001b[0;34m(\u001b[0m\u001b[0mchunks\u001b[0m\u001b[0;34m,\u001b[0m \u001b[0;34m(\u001b[0m\u001b[0mlist\u001b[0m\u001b[0;34m,\u001b[0m \u001b[0mtuple\u001b[0m\u001b[0;34m)\u001b[0m\u001b[0;34m)\u001b[0m\u001b[0;34m:\u001b[0m\u001b[0;34m\u001b[0m\u001b[0m\n\u001b[1;32m    201\u001b[0m             \u001b[0mchunks\u001b[0m \u001b[0;34m=\u001b[0m \u001b[0mlist\u001b[0m\u001b[0;34m(\u001b[0m\u001b[0mchunks\u001b[0m\u001b[0;34m)\u001b[0m\u001b[0;34m\u001b[0m\u001b[0m\n",
      "\u001b[0;32m/anaconda3/lib/python3.6/json/encoder.py\u001b[0m in \u001b[0;36miterencode\u001b[0;34m(self, o, _one_shot)\u001b[0m\n\u001b[1;32m    255\u001b[0m                 \u001b[0mself\u001b[0m\u001b[0;34m.\u001b[0m\u001b[0mkey_separator\u001b[0m\u001b[0;34m,\u001b[0m \u001b[0mself\u001b[0m\u001b[0;34m.\u001b[0m\u001b[0mitem_separator\u001b[0m\u001b[0;34m,\u001b[0m \u001b[0mself\u001b[0m\u001b[0;34m.\u001b[0m\u001b[0msort_keys\u001b[0m\u001b[0;34m,\u001b[0m\u001b[0;34m\u001b[0m\u001b[0m\n\u001b[1;32m    256\u001b[0m                 self.skipkeys, _one_shot)\n\u001b[0;32m--> 257\u001b[0;31m         \u001b[0;32mreturn\u001b[0m \u001b[0m_iterencode\u001b[0m\u001b[0;34m(\u001b[0m\u001b[0mo\u001b[0m\u001b[0;34m,\u001b[0m \u001b[0;36m0\u001b[0m\u001b[0;34m)\u001b[0m\u001b[0;34m\u001b[0m\u001b[0m\n\u001b[0m\u001b[1;32m    258\u001b[0m \u001b[0;34m\u001b[0m\u001b[0m\n\u001b[1;32m    259\u001b[0m def _make_iterencode(markers, _default, _encoder, _indent, _floatstr,\n",
      "\u001b[0;32m/anaconda3/lib/python3.6/json/encoder.py\u001b[0m in \u001b[0;36mdefault\u001b[0;34m(self, o)\u001b[0m\n\u001b[1;32m    178\u001b[0m         \"\"\"\n\u001b[1;32m    179\u001b[0m         raise TypeError(\"Object of type '%s' is not JSON serializable\" %\n\u001b[0;32m--> 180\u001b[0;31m                         o.__class__.__name__)\n\u001b[0m\u001b[1;32m    181\u001b[0m \u001b[0;34m\u001b[0m\u001b[0m\n\u001b[1;32m    182\u001b[0m     \u001b[0;32mdef\u001b[0m \u001b[0mencode\u001b[0m\u001b[0;34m(\u001b[0m\u001b[0mself\u001b[0m\u001b[0;34m,\u001b[0m \u001b[0mo\u001b[0m\u001b[0;34m)\u001b[0m\u001b[0;34m:\u001b[0m\u001b[0;34m\u001b[0m\u001b[0m\n",
      "\u001b[0;31mTypeError\u001b[0m: Object of type 'ndarray' is not JSON serializable"
     ]
    }
   ],
   "source": [
    "a = get_top_cpas()\n",
    "json.dumps(a)"
   ]
  },
  {
   "cell_type": "code",
   "execution_count": 59,
   "metadata": {},
   "outputs": [],
   "source": [
    "def avg_cpa(df, var, attr):\n",
    "    df = df[df[var] == attr]\n",
    "    indices = df.index.values\n",
    "    index_avg = indices.mean()\n",
    "    return index_avg"
   ]
  },
  {
   "cell_type": "code",
   "execution_count": 60,
   "metadata": {},
   "outputs": [],
   "source": [
    "def cpa_lookup(df):\n",
    "    rows, columns = df.shape\n",
    "    i = 0\n",
    "    lookup_table = {}\n",
    "    col_val = df.columns.values\n",
    "    while i < columns:\n",
    "        col_sel = df.iloc[:, i]\n",
    "        for row in col_sel:\n",
    "            col_header = col_val[i]\n",
    "            avg = avg_cpa(df, col_header, row)\n",
    "            lookup_table[row] = avg\n",
    "            #print(\"attr: \" + str(row) + \"\\n avg_cpa: $\" + str(avg) + \"\\n\\n\")\n",
    "        i += 1\n",
    "    return lookup_table"
   ]
  },
  {
   "cell_type": "code",
   "execution_count": 61,
   "metadata": {},
   "outputs": [],
   "source": [
    "def find_in_lookup(val):\n",
    "    data = cpa_lookup(text_and_color)\n",
    "    \n",
    "    for key, value in data.items():\n",
    "        if key == val:\n",
    "            return value"
   ]
  },
  {
   "cell_type": "code",
   "execution_count": 62,
   "metadata": {},
   "outputs": [
    {
     "data": {
      "text/plain": [
       "4.262613958333334"
      ]
     },
     "execution_count": 62,
     "metadata": {},
     "output_type": "execute_result"
    }
   ],
   "source": [
    "find_in_lookup('cyan')"
   ]
  },
  {
   "cell_type": "code",
   "execution_count": 63,
   "metadata": {},
   "outputs": [],
   "source": [
    "def est_cpa(df, row_set):\n",
    "    rows, columns = df.shape\n",
    "    i = 0\n",
    "    temp = {}\n",
    "    row_sel = df.iloc[row_set, :]\n",
    "\n",
    "    for val in row_sel:\n",
    "        if i < 7:\n",
    "            temp[i] = find_in_lookup(val)\n",
    "            i+=1\n",
    "        else:\n",
    "            break\n",
    "                      \n",
    "    mean = float(sum(temp.values())) / len(temp)\n",
    "    return mean"
   ]
  },
  {
   "cell_type": "code",
   "execution_count": 64,
   "metadata": {},
   "outputs": [],
   "source": [
    "def petri_dish():\n",
    "    accent_color_name = text_and_color['accent_color_name']\n",
    "    color_saturation = text_and_color['color_saturation']\n",
    "    color_brightness = text_and_color['color_brightness']\n",
    "    dominant_color_background = text_and_color['dominant_color_background']\n",
    "    dominant_color_foreground = text_and_color['dominant_color_foreground']\n",
    "    dominant_color_1 = text_and_color['dominant_color_1']\n",
    "    sentiment = text_and_color['sentiment']\n",
    "    tone_1 = text_and_color['tone_1']\n",
    "    test_combos = list(product(accent_color_name, color_saturation, color_brightness, dominant_color_background, dominant_color_foreground, dominant_color_1, tone_1))\n",
    "    blah = pd.DataFrame(test_combos)\n",
    "    \n",
    "    rows, columns = blah.shape\n",
    "    blah = blah.drop_duplicates(subset=[0,1,2,3,4,5,6], keep='first')\n",
    "#     blah = blah[:10]\n",
    "    blah_indeces = blah.index.values\n",
    "    blah['est_cpa'] = \"\"\n",
    "    \n",
    "    def update_cpa():\n",
    "        i=0\n",
    "        for row in blah_indeces:\n",
    "            blah['est_cpa'][row] = est_cpa(blah, i)\n",
    "            i += 1\n",
    "            \n",
    "    update_cpa()\n",
    "\n",
    "    blah.sort_values(by='est_cpa', inplace=True)\n",
    "    #blah.drop_duplicates(subset=['est_cpa'], keep='last', inplace=True)\n",
    "    \n",
    "    return blah"
   ]
  },
  {
   "cell_type": "code",
   "execution_count": 65,
   "metadata": {},
   "outputs": [],
   "source": [
    "blah = petri_dish()"
   ]
  },
  {
   "cell_type": "code",
   "execution_count": 66,
   "metadata": {},
   "outputs": [
    {
     "data": {
      "text/html": [
       "<div>\n",
       "<style scoped>\n",
       "    .dataframe tbody tr th:only-of-type {\n",
       "        vertical-align: middle;\n",
       "    }\n",
       "\n",
       "    .dataframe tbody tr th {\n",
       "        vertical-align: top;\n",
       "    }\n",
       "\n",
       "    .dataframe thead th {\n",
       "        text-align: right;\n",
       "    }\n",
       "</style>\n",
       "<table border=\"1\" class=\"dataframe\">\n",
       "  <thead>\n",
       "    <tr style=\"text-align: right;\">\n",
       "      <th></th>\n",
       "      <th>0</th>\n",
       "      <th>1</th>\n",
       "      <th>2</th>\n",
       "      <th>3</th>\n",
       "      <th>4</th>\n",
       "      <th>5</th>\n",
       "      <th>6</th>\n",
       "      <th>est_cpa</th>\n",
       "    </tr>\n",
       "  </thead>\n",
       "  <tbody>\n",
       "    <tr>\n",
       "      <th>1040</th>\n",
       "      <td>cyan</td>\n",
       "      <td>high saturation</td>\n",
       "      <td>dim brightness</td>\n",
       "      <td>White</td>\n",
       "      <td>Teal</td>\n",
       "      <td>White</td>\n",
       "      <td>Confident</td>\n",
       "      <td>4.39295</td>\n",
       "    </tr>\n",
       "    <tr>\n",
       "      <th>9232</th>\n",
       "      <td>blue</td>\n",
       "      <td>high saturation</td>\n",
       "      <td>dim brightness</td>\n",
       "      <td>White</td>\n",
       "      <td>Teal</td>\n",
       "      <td>White</td>\n",
       "      <td>Confident</td>\n",
       "      <td>4.44527</td>\n",
       "    </tr>\n",
       "    <tr>\n",
       "      <th>1104</th>\n",
       "      <td>cyan</td>\n",
       "      <td>high saturation</td>\n",
       "      <td>dim brightness</td>\n",
       "      <td>Teal</td>\n",
       "      <td>Teal</td>\n",
       "      <td>White</td>\n",
       "      <td>Confident</td>\n",
       "      <td>4.46855</td>\n",
       "    </tr>\n",
       "    <tr>\n",
       "      <th>1044</th>\n",
       "      <td>cyan</td>\n",
       "      <td>high saturation</td>\n",
       "      <td>dim brightness</td>\n",
       "      <td>White</td>\n",
       "      <td>Teal</td>\n",
       "      <td>Teal</td>\n",
       "      <td>Confident</td>\n",
       "      <td>4.46855</td>\n",
       "    </tr>\n",
       "    <tr>\n",
       "      <th>9236</th>\n",
       "      <td>blue</td>\n",
       "      <td>high saturation</td>\n",
       "      <td>dim brightness</td>\n",
       "      <td>White</td>\n",
       "      <td>Teal</td>\n",
       "      <td>Teal</td>\n",
       "      <td>Confident</td>\n",
       "      <td>4.52088</td>\n",
       "    </tr>\n",
       "    <tr>\n",
       "      <th>9296</th>\n",
       "      <td>blue</td>\n",
       "      <td>high saturation</td>\n",
       "      <td>dim brightness</td>\n",
       "      <td>Teal</td>\n",
       "      <td>Teal</td>\n",
       "      <td>White</td>\n",
       "      <td>Confident</td>\n",
       "      <td>4.52088</td>\n",
       "    </tr>\n",
       "    <tr>\n",
       "      <th>1108</th>\n",
       "      <td>cyan</td>\n",
       "      <td>high saturation</td>\n",
       "      <td>dim brightness</td>\n",
       "      <td>Teal</td>\n",
       "      <td>Teal</td>\n",
       "      <td>Teal</td>\n",
       "      <td>Confident</td>\n",
       "      <td>4.54416</td>\n",
       "    </tr>\n",
       "    <tr>\n",
       "      <th>9300</th>\n",
       "      <td>blue</td>\n",
       "      <td>high saturation</td>\n",
       "      <td>dim brightness</td>\n",
       "      <td>Teal</td>\n",
       "      <td>Teal</td>\n",
       "      <td>Teal</td>\n",
       "      <td>Confident</td>\n",
       "      <td>4.59649</td>\n",
       "    </tr>\n",
       "    <tr>\n",
       "      <th>16</th>\n",
       "      <td>cyan</td>\n",
       "      <td>moderate saturation</td>\n",
       "      <td>dim brightness</td>\n",
       "      <td>White</td>\n",
       "      <td>Teal</td>\n",
       "      <td>White</td>\n",
       "      <td>Confident</td>\n",
       "      <td>4.62456</td>\n",
       "    </tr>\n",
       "    <tr>\n",
       "      <th>1041</th>\n",
       "      <td>cyan</td>\n",
       "      <td>high saturation</td>\n",
       "      <td>dim brightness</td>\n",
       "      <td>White</td>\n",
       "      <td>Teal</td>\n",
       "      <td>White</td>\n",
       "      <td>Joy</td>\n",
       "      <td>4.65785</td>\n",
       "    </tr>\n",
       "    <tr>\n",
       "      <th>8208</th>\n",
       "      <td>blue</td>\n",
       "      <td>moderate saturation</td>\n",
       "      <td>dim brightness</td>\n",
       "      <td>White</td>\n",
       "      <td>Teal</td>\n",
       "      <td>White</td>\n",
       "      <td>Confident</td>\n",
       "      <td>4.67689</td>\n",
       "    </tr>\n",
       "    <tr>\n",
       "      <th>1024</th>\n",
       "      <td>cyan</td>\n",
       "      <td>high saturation</td>\n",
       "      <td>dim brightness</td>\n",
       "      <td>White</td>\n",
       "      <td>Black</td>\n",
       "      <td>White</td>\n",
       "      <td>Confident</td>\n",
       "      <td>4.67689</td>\n",
       "    </tr>\n",
       "    <tr>\n",
       "      <th>20</th>\n",
       "      <td>cyan</td>\n",
       "      <td>moderate saturation</td>\n",
       "      <td>dim brightness</td>\n",
       "      <td>White</td>\n",
       "      <td>Teal</td>\n",
       "      <td>Teal</td>\n",
       "      <td>Confident</td>\n",
       "      <td>4.70017</td>\n",
       "    </tr>\n",
       "    <tr>\n",
       "      <th>80</th>\n",
       "      <td>cyan</td>\n",
       "      <td>moderate saturation</td>\n",
       "      <td>dim brightness</td>\n",
       "      <td>Teal</td>\n",
       "      <td>Teal</td>\n",
       "      <td>White</td>\n",
       "      <td>Confident</td>\n",
       "      <td>4.70017</td>\n",
       "    </tr>\n",
       "    <tr>\n",
       "      <th>9233</th>\n",
       "      <td>blue</td>\n",
       "      <td>high saturation</td>\n",
       "      <td>dim brightness</td>\n",
       "      <td>White</td>\n",
       "      <td>Teal</td>\n",
       "      <td>White</td>\n",
       "      <td>Joy</td>\n",
       "      <td>4.71018</td>\n",
       "    </tr>\n",
       "    <tr>\n",
       "      <th>9216</th>\n",
       "      <td>blue</td>\n",
       "      <td>high saturation</td>\n",
       "      <td>dim brightness</td>\n",
       "      <td>White</td>\n",
       "      <td>Black</td>\n",
       "      <td>White</td>\n",
       "      <td>Confident</td>\n",
       "      <td>4.72922</td>\n",
       "    </tr>\n",
       "    <tr>\n",
       "      <th>1045</th>\n",
       "      <td>cyan</td>\n",
       "      <td>high saturation</td>\n",
       "      <td>dim brightness</td>\n",
       "      <td>White</td>\n",
       "      <td>Teal</td>\n",
       "      <td>Teal</td>\n",
       "      <td>Joy</td>\n",
       "      <td>4.73346</td>\n",
       "    </tr>\n",
       "    <tr>\n",
       "      <th>1105</th>\n",
       "      <td>cyan</td>\n",
       "      <td>high saturation</td>\n",
       "      <td>dim brightness</td>\n",
       "      <td>Teal</td>\n",
       "      <td>Teal</td>\n",
       "      <td>White</td>\n",
       "      <td>Joy</td>\n",
       "      <td>4.73346</td>\n",
       "    </tr>\n",
       "    <tr>\n",
       "      <th>8212</th>\n",
       "      <td>blue</td>\n",
       "      <td>moderate saturation</td>\n",
       "      <td>dim brightness</td>\n",
       "      <td>White</td>\n",
       "      <td>Teal</td>\n",
       "      <td>Teal</td>\n",
       "      <td>Confident</td>\n",
       "      <td>4.7525</td>\n",
       "    </tr>\n",
       "    <tr>\n",
       "      <th>1088</th>\n",
       "      <td>cyan</td>\n",
       "      <td>high saturation</td>\n",
       "      <td>dim brightness</td>\n",
       "      <td>Teal</td>\n",
       "      <td>Black</td>\n",
       "      <td>White</td>\n",
       "      <td>Confident</td>\n",
       "      <td>4.7525</td>\n",
       "    </tr>\n",
       "  </tbody>\n",
       "</table>\n",
       "</div>"
      ],
      "text/plain": [
       "         0                    1               2      3      4      5  \\\n",
       "1040  cyan      high saturation  dim brightness  White   Teal  White   \n",
       "9232  blue      high saturation  dim brightness  White   Teal  White   \n",
       "1104  cyan      high saturation  dim brightness   Teal   Teal  White   \n",
       "1044  cyan      high saturation  dim brightness  White   Teal   Teal   \n",
       "9236  blue      high saturation  dim brightness  White   Teal   Teal   \n",
       "9296  blue      high saturation  dim brightness   Teal   Teal  White   \n",
       "1108  cyan      high saturation  dim brightness   Teal   Teal   Teal   \n",
       "9300  blue      high saturation  dim brightness   Teal   Teal   Teal   \n",
       "16    cyan  moderate saturation  dim brightness  White   Teal  White   \n",
       "1041  cyan      high saturation  dim brightness  White   Teal  White   \n",
       "8208  blue  moderate saturation  dim brightness  White   Teal  White   \n",
       "1024  cyan      high saturation  dim brightness  White  Black  White   \n",
       "20    cyan  moderate saturation  dim brightness  White   Teal   Teal   \n",
       "80    cyan  moderate saturation  dim brightness   Teal   Teal  White   \n",
       "9233  blue      high saturation  dim brightness  White   Teal  White   \n",
       "9216  blue      high saturation  dim brightness  White  Black  White   \n",
       "1045  cyan      high saturation  dim brightness  White   Teal   Teal   \n",
       "1105  cyan      high saturation  dim brightness   Teal   Teal  White   \n",
       "8212  blue  moderate saturation  dim brightness  White   Teal   Teal   \n",
       "1088  cyan      high saturation  dim brightness   Teal  Black  White   \n",
       "\n",
       "              6  est_cpa  \n",
       "1040  Confident  4.39295  \n",
       "9232  Confident  4.44527  \n",
       "1104  Confident  4.46855  \n",
       "1044  Confident  4.46855  \n",
       "9236  Confident  4.52088  \n",
       "9296  Confident  4.52088  \n",
       "1108  Confident  4.54416  \n",
       "9300  Confident  4.59649  \n",
       "16    Confident  4.62456  \n",
       "1041        Joy  4.65785  \n",
       "8208  Confident  4.67689  \n",
       "1024  Confident  4.67689  \n",
       "20    Confident  4.70017  \n",
       "80    Confident  4.70017  \n",
       "9233        Joy  4.71018  \n",
       "9216  Confident  4.72922  \n",
       "1045        Joy  4.73346  \n",
       "1105        Joy  4.73346  \n",
       "8212  Confident   4.7525  \n",
       "1088  Confident   4.7525  "
      ]
     },
     "execution_count": 66,
     "metadata": {},
     "output_type": "execute_result"
    }
   ],
   "source": [
    "blah.head(20)"
   ]
  },
  {
   "cell_type": "code",
   "execution_count": 264,
   "metadata": {},
   "outputs": [
    {
     "data": {
      "text/plain": [
       "(216, 8)"
      ]
     },
     "execution_count": 264,
     "metadata": {},
     "output_type": "execute_result"
    }
   ],
   "source": [
    "blah.shape"
   ]
  },
  {
   "cell_type": "code",
   "execution_count": null,
   "metadata": {},
   "outputs": [],
   "source": []
  },
  {
   "cell_type": "code",
   "execution_count": null,
   "metadata": {},
   "outputs": [],
   "source": []
  },
  {
   "cell_type": "code",
   "execution_count": 56,
   "metadata": {},
   "outputs": [],
   "source": [
    "def main():\n",
    "    if __name__ == \"__main__\":\n",
    "        back = back_analysis(actions_attr_df)\n",
    "        petri_dish(back)"
   ]
  },
  {
   "cell_type": "code",
   "execution_count": null,
   "metadata": {},
   "outputs": [],
   "source": []
  }
 ],
 "metadata": {
  "kernelspec": {
   "display_name": "Python [conda env:anaconda3]",
   "language": "python",
   "name": "conda-env-anaconda3-py"
  },
  "language_info": {
   "codemirror_mode": {
    "name": "ipython",
    "version": 3
   },
   "file_extension": ".py",
   "mimetype": "text/x-python",
   "name": "python",
   "nbconvert_exporter": "python",
   "pygments_lexer": "ipython3",
   "version": "3.6.4"
  }
 },
 "nbformat": 4,
 "nbformat_minor": 2
}
